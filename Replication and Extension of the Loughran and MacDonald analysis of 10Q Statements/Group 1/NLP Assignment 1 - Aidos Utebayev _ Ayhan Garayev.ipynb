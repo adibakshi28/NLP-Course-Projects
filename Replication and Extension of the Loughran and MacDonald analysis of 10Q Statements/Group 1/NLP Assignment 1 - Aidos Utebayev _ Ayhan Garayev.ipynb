{
 "cells": [
  {
   "cell_type": "code",
   "execution_count": null,
   "id": "ba43f1c1",
   "metadata": {},
   "outputs": [],
   "source": [
    "team members = \"Aidos Utebayev, Ayhan Garayev\""
   ]
  },
  {
   "cell_type": "code",
   "execution_count": 162,
   "id": "dc3f677e",
   "metadata": {},
   "outputs": [],
   "source": [
    "import pandas as pd\n"
   ]
  },
  {
   "cell_type": "markdown",
   "id": "c9cd7873",
   "metadata": {},
   "source": [
    "### Find the components of SP500"
   ]
  },
  {
   "cell_type": "code",
   "execution_count": 163,
   "id": "26bc4544",
   "metadata": {},
   "outputs": [
    {
     "data": {
      "text/html": [
       "<div>\n",
       "<style scoped>\n",
       "    .dataframe tbody tr th:only-of-type {\n",
       "        vertical-align: middle;\n",
       "    }\n",
       "\n",
       "    .dataframe tbody tr th {\n",
       "        vertical-align: top;\n",
       "    }\n",
       "\n",
       "    .dataframe thead th {\n",
       "        text-align: right;\n",
       "    }\n",
       "</style>\n",
       "<table border=\"1\" class=\"dataframe\">\n",
       "  <thead>\n",
       "    <tr style=\"text-align: right;\">\n",
       "      <th></th>\n",
       "      <th>Date</th>\n",
       "      <th>Year</th>\n",
       "      <th>Company Name</th>\n",
       "      <th>Ticker</th>\n",
       "    </tr>\n",
       "  </thead>\n",
       "  <tbody>\n",
       "    <tr>\n",
       "      <th>0</th>\n",
       "      <td>2019-12-31</td>\n",
       "      <td>2019</td>\n",
       "      <td>COLGATE PALMOLIVE CO</td>\n",
       "      <td>CL</td>\n",
       "    </tr>\n",
       "    <tr>\n",
       "      <th>1</th>\n",
       "      <td>2019-12-31</td>\n",
       "      <td>2019</td>\n",
       "      <td>ZIMMER BIOMET HOLDINGS INC</td>\n",
       "      <td>ZBH</td>\n",
       "    </tr>\n",
       "    <tr>\n",
       "      <th>2</th>\n",
       "      <td>2019-12-31</td>\n",
       "      <td>2019</td>\n",
       "      <td>CITRIX SYSTEMS INC</td>\n",
       "      <td>CTXS</td>\n",
       "    </tr>\n",
       "    <tr>\n",
       "      <th>3</th>\n",
       "      <td>2019-12-31</td>\n",
       "      <td>2019</td>\n",
       "      <td>DOW INC</td>\n",
       "      <td>DOW</td>\n",
       "    </tr>\n",
       "    <tr>\n",
       "      <th>4</th>\n",
       "      <td>2019-12-31</td>\n",
       "      <td>2019</td>\n",
       "      <td>AMCOR PLC</td>\n",
       "      <td>AMCR</td>\n",
       "    </tr>\n",
       "  </tbody>\n",
       "</table>\n",
       "</div>"
      ],
      "text/plain": [
       "        Date  Year                Company Name Ticker\n",
       "0 2019-12-31  2019        COLGATE PALMOLIVE CO     CL\n",
       "1 2019-12-31  2019  ZIMMER BIOMET HOLDINGS INC    ZBH\n",
       "2 2019-12-31  2019          CITRIX SYSTEMS INC   CTXS\n",
       "3 2019-12-31  2019                     DOW INC    DOW\n",
       "4 2019-12-31  2019                   AMCOR PLC   AMCR"
      ]
     },
     "execution_count": 163,
     "metadata": {},
     "output_type": "execute_result"
    }
   ],
   "source": [
    "file = pd.read_excel(\"sp500_composition.xlsx\")\n",
    "file.head()"
   ]
  },
  {
   "cell_type": "code",
   "execution_count": 164,
   "id": "432a6e9e",
   "metadata": {},
   "outputs": [],
   "source": [
    "file_2019 = file[file[\"Year\"]==2019][\"Ticker\"].to_list()\n",
    "file_2020 = file[file[\"Year\"]==2020][\"Ticker\"].to_list()\n",
    "file_2021 = file[file[\"Year\"]==2021][\"Ticker\"].to_list()\n",
    "file_2022 = file[file[\"Year\"]==2022][\"Ticker\"].to_list()\n",
    "file_2023 = file[file[\"Year\"]==2023][\"Ticker\"].to_list()\n",
    "company_dict = [{\"year\": 2019, \"start\": \"2019-01-01\", \"end\":\"2019-12-31\", \"tickers\": file_2019}, \n",
    "                {\"year\": 2020, \"start\": \"2020-01-01\", \"end\":\"2020-12-31\", \"tickers\": file_2020}, \n",
    "               {\"year\": 2021, \"start\": \"2021-01-01\", \"end\":\"2021-12-31\", \"tickers\": file_2021}, \n",
    "               {\"year\": 2022, \"start\": \"2022-01-01\", \"end\":\"2022-12-31\", \"tickers\": file_2022}, \n",
    "               {\"year\": 2023, \"start\": \"2023-01-01\", \"end\":\"2023-12-31\", \"tickers\": file_2023}]"
   ]
  },
  {
   "cell_type": "code",
   "execution_count": 165,
   "id": "ddf31dfa",
   "metadata": {},
   "outputs": [
    {
     "data": {
      "text/plain": [
       "dict_keys(['year', 'start', 'end', 'tickers'])"
      ]
     },
     "execution_count": 165,
     "metadata": {},
     "output_type": "execute_result"
    }
   ],
   "source": [
    "company_dict[0].keys()"
   ]
  },
  {
   "cell_type": "markdown",
   "id": "4d5fed37",
   "metadata": {},
   "source": [
    "### Download SP500 components' 10-K file"
   ]
  },
  {
   "cell_type": "code",
   "execution_count": null,
   "id": "eb70f254",
   "metadata": {},
   "outputs": [],
   "source": [
    "import os\n",
    "from sec_edgar_downloader import Downloader\n",
    "\n",
    "custom_directory = \"/Users/aidosutebayev/Documents/NYU/7871NLP/SEC_Filings\"\n",
    "\n",
    "dl = Downloader(\"NYU\", \"au2258@nyu.edu\", custom_directory)\n",
    "\n",
    "file_type = \"10-K\"\n",
    "failed_files = []\n",
    "companies = 0\n",
    "\n",
    "for file in company_dict:\n",
    "    print(f'10-K for: {file[\"year\"]}')\n",
    "    for ticker in file[\"tickers\"]:\n",
    "        try:\n",
    "            dl.get(file_type, ticker, after=file[\"start\"], before=file[\"end\"])\n",
    "            companies+=1\n",
    "        except Exception as e:\n",
    "            print(f\"Failed to download {file_type} for {ticker}: {e}\")\n",
    "            failed_files.append(ticker)\n",
    "            companies+=1"
   ]
  },
  {
   "cell_type": "code",
   "execution_count": null,
   "id": "c2321e61",
   "metadata": {},
   "outputs": [],
   "source": [
    "len(failed_files)"
   ]
  },
  {
   "cell_type": "markdown",
   "id": "8bccacd8",
   "metadata": {},
   "source": [
    "### Read & parse 10-K files"
   ]
  },
  {
   "cell_type": "code",
   "execution_count": 1,
   "id": "a2e32a27",
   "metadata": {},
   "outputs": [],
   "source": [
    "def Find_all_freq(tokens,all_word,stopword):\n",
    "    \n",
    "    # all words in file content \n",
    "    freq_all = Counter(tokens)\n",
    "    \n",
    "    # delete words that are not in lm_dictionary and words in stopwords and not in stopwords\n",
    "    filtered_word = list(set(tokens) & set(all_word) - set(stopword))\n",
    "    freq_all_filtered = {key: value for key, value in freq_all.items() if key in filtered_word}\n",
    "    \n",
    "    return freq_all_filtered"
   ]
  },
  {
   "cell_type": "code",
   "execution_count": 2,
   "id": "8b568483",
   "metadata": {},
   "outputs": [],
   "source": [
    "def Find_neg_freq(tokens,freq_all_filtered,negative_list,all_lm_word, stopword):\n",
    "    filtered_word = list(set(tokens) & set(all_lm_word) - set(stopword))\n",
    "    neg_filtered_word = list(set(filtered_word) & set(negative_list))\n",
    "    freq_neg_filtered = {key: value for key, value in freq_all_filtered.items() if key in neg_filtered_word}\n",
    "    return freq_neg_filtered\n",
    "\n",
    "def negative_pro(neg,all_word):\n",
    "    num_neg = sum(neg.values())\n",
    "    num_all_word = sum(all_word.values())\n",
    "    neg_pro = num_neg/num_all_word\n",
    "    return neg_pro\n",
    "\n",
    "def Matrix1(f_neg,i,matrix):\n",
    "    matrix1 = matrix.copy()\n",
    "    mat = pd.DataFrame(f_neg.items(), columns=['neg',str(i)])\n",
    "    mat = mat.set_index('neg') \n",
    "    matrix1 = pd.concat([matrix1, mat],axis=1)\n",
    "    return matrix1\n",
    "\n",
    "def Matrix2(matrix):\n",
    "    matrix2 = matrix.copy()\n",
    "    matrix2[matrix2>0] = 1\n",
    "    return matrix2\n",
    "\n",
    "def Matrix3(num_word_list,freq):\n",
    "    num_word = sum(freq.values())  \n",
    "    num_word_list.append(num_word)\n",
    "    return num_word_list"
   ]
  },
  {
   "cell_type": "code",
   "execution_count": 3,
   "id": "d584e7bd",
   "metadata": {
    "scrolled": true
   },
   "outputs": [
    {
     "name": "stderr",
     "output_type": "stream",
     "text": [
      "[nltk_data] Downloading package stopwords to\n",
      "[nltk_data]     /Users/aidosutebayev/nltk_data...\n",
      "[nltk_data]   Package stopwords is already up-to-date!\n"
     ]
    },
    {
     "name": "stdout",
     "output_type": "stream",
     "text": [
      "empty\n",
      "empty\n",
      "empty\n",
      "empty\n",
      "empty\n",
      "empty\n",
      "empty\n",
      "empty\n",
      "empty\n",
      "empty\n",
      "empty\n",
      "empty\n",
      "empty\n",
      "empty\n",
      "empty\n"
     ]
    }
   ],
   "source": [
    "import nltk\n",
    "from nltk.corpus import stopwords\n",
    "from collections import Counter\n",
    "import re\n",
    "import os\n",
    "import pandas as pd\n",
    "\n",
    "def Main():\n",
    "    # Specify the root directory\n",
    "    root_directory = r'/Users/aidosutebayev/Documents/NYU/7871NLP/SEC_Filings/sec-edgar-filings'\n",
    "    count = 0\n",
    "    \n",
    "    nltk.download('stopwords')\n",
    "    stopword = stopwords.words('english')\n",
    "    \n",
    "    # lm\n",
    "    lm_dictionary = pd.read_csv('/Users/aidosutebayev/Documents/NYU/7871NLP/Dictionary/Loughran-McDonald_MasterDictionary_1993-2023.csv')\n",
    "    all_lm_word = lm_dictionary['Word'].to_list()\n",
    "    lm_Negative = lm_dictionary[lm_dictionary['Negative']!=0]\n",
    "    lm_Negative = lm_Negative['Word'].to_list()\n",
    "    lm_pro_list = []\n",
    "    \n",
    "    # TODO\n",
    "    # Harvard all words, only neg, all words\n",
    "    H_Negative = pd.read_csv('/Users/aidosutebayev/Documents/NYU/7871NLP/Harvard_Neg.csv',header=None)\n",
    "    H_Negative = H_Negative[0].to_list()\n",
    "    H_pro_list = []\n",
    "    \n",
    "    #tfidf\n",
    "    matrix1 = pd.DataFrame()\n",
    "    num_word_list = []\n",
    "    \n",
    "    #tfidf_H\n",
    "    matrix1_H = pd.DataFrame()\n",
    "    \n",
    "    #basic data\n",
    "    cik_list = []\n",
    "    filing_date_list = []\n",
    "    \n",
    "    count = 0\n",
    "    # Iterate through all folders, subfolders, and files using os.walk()\n",
    "    for folder_path, _, files in os.walk(root_directory):\n",
    "        for file_name in files:\n",
    "            # Construct the full path to the file\n",
    "            file_path = os.path.join(folder_path, file_name)\n",
    "\n",
    "            # Open and read the file\n",
    "            with open(file_path, 'r') as file:\n",
    "                try:\n",
    "                    # Process the file content as needed\n",
    "                    file_content = file.read()\n",
    "                    file_content = file_content.upper()\n",
    "                    tokens = re.findall('\\w+', file_content)\n",
    "\n",
    "\n",
    "                    # Get basic data\n",
    "                    idx_key = tokens.index('KEY')\n",
    "                    cik_list.append(tokens[idx_key+1])\n",
    "                    filing_date_list.append(tokens[6])\n",
    "\n",
    "\n",
    "                    # Get target data_lm\n",
    "                    freq_all = Find_all_freq(tokens,all_lm_word,stopword)\n",
    "                    freq_neg_lm = Find_neg_freq(tokens,freq_all,lm_Negative,all_lm_word,stopword)\n",
    "\n",
    "                    # Get target data_H\n",
    "                    freq_neg_H = Find_neg_freq(tokens,freq_all,H_Negative,all_lm_word, stopword)\n",
    "\n",
    "                    # normal proportion of negative words_lm\n",
    "                    lm_pro = negative_pro(freq_neg_lm,freq_all)\n",
    "                    lm_pro_list.append(lm_pro)\n",
    "\n",
    "                    # normal proportion of negative words_H\n",
    "                    H_pro = negative_pro(freq_neg_H,freq_all)\n",
    "                    H_pro_list.append(H_pro)\n",
    "\n",
    "                    # build tfidf_lm\n",
    "                    matrix1 = Matrix1(freq_neg_lm,count,matrix1)\n",
    "                    num_word_list = Matrix3(num_word_list,freq_all)\n",
    "\n",
    "                    # build tfidf_H\n",
    "                    matrix1_H = Matrix1(freq_neg_H,count,matrix1_H)\n",
    "\n",
    "                    count+=1 \n",
    "\n",
    "                except:\n",
    "                    print('empty')\n",
    "            \n",
    "    matrix1.fillna(0, inplace=True)\n",
    "    matrix1_H.fillna(0, inplace=True)\n",
    "        \n",
    "    result_list_lm = [matrix1, num_word_list, lm_pro_list,cik_list,filing_date_list]\n",
    "    result_list_H = [matrix1_H, num_word_list, H_pro_list,cik_list,filing_date_list]\n",
    "    return result_list_lm, result_list_H\n",
    "\n",
    "result_list_lm, result_list_H = Main()\n",
    "result_list_lm.append(Matrix2(result_list_lm[0]))\n",
    "result_list_H.append(Matrix2(result_list_H[0]))"
   ]
  },
  {
   "cell_type": "markdown",
   "id": "99a78435",
   "metadata": {},
   "source": [
    "#### Save results to csv files"
   ]
  },
  {
   "cell_type": "code",
   "execution_count": 26,
   "id": "f27960d4",
   "metadata": {},
   "outputs": [],
   "source": [
    "result_list_H_0 = result_list_H[0]\n",
    "result_list_H_1 = pd.Series(result_list_H[1])\n",
    "result_list_H_2 = pd.Series(result_list_H[2])\n",
    "result_list_H_3 = pd.Series(result_list_H[3])\n",
    "result_list_H_5 = result_list_H[5]\n",
    "result_list_H_4 = pd.Series(result_list_H[4])\n",
    "result_list_H_1_4 = pd.DataFrame(\n",
    "    dict(result_list_H_1 = result_list_H_1, \n",
    "         result_list_H_2 = result_list_H_2, \n",
    "         result_list_H_3=result_list_H_3, \n",
    "         result_list_H_4=result_list_H_4)).reset_index()"
   ]
  },
  {
   "cell_type": "code",
   "execution_count": 27,
   "id": "66125e34",
   "metadata": {},
   "outputs": [],
   "source": [
    "result_list_lm_0 = result_list_lm[0]\n",
    "result_list_lm_1 = pd.Series(result_list_lm[1])\n",
    "result_list_lm_2 = pd.Series(result_list_lm[2])\n",
    "result_list_lm_3 = pd.Series(result_list_lm[3])\n",
    "result_list_lm_5 = result_list_lm[5]\n",
    "result_list_lm_4 = pd.Series(result_list_lm[4])\n",
    "result_list_lm_1_4 = pd.DataFrame(\n",
    "    dict(result_list_lm_1 = result_list_lm_1, \n",
    "         result_list_lm_2 = result_list_lm_2, \n",
    "         result_list_lm_3=result_list_lm_3, \n",
    "         result_list_lm_4=result_list_lm_4)).reset_index()"
   ]
  },
  {
   "cell_type": "code",
   "execution_count": 30,
   "id": "1fd237c6",
   "metadata": {},
   "outputs": [],
   "source": [
    "result_list_H_1.to_csv(\"result_list_H_1.csv\")\n",
    "result_list_H_2.to_csv(\"result_list_H_2.csv\")\n",
    "result_list_H_3.to_csv(\"result_list_H_3.csv\")\n",
    "result_list_H_4.to_csv(\"result_list_H_4.csv\")\n",
    "result_list_lm_1.to_csv(\"result_list_lm_1.csv\")\n",
    "result_list_lm_2.to_csv(\"result_list_lm_2.csv\")\n",
    "result_list_lm_3.to_csv(\"result_list_lm_3.csv\")\n",
    "result_list_lm_4.to_csv(\"result_list_lm_4.csv\")"
   ]
  },
  {
   "cell_type": "code",
   "execution_count": 29,
   "id": "89e9922a",
   "metadata": {},
   "outputs": [],
   "source": [
    "result_list_H_5.to_csv(\"result_list_H_5.csv\")\n",
    "result_list_H_0.to_csv(\"result_list_H_0.csv\")\n",
    "result_list_H_1_4.to_csv(\"result_list_H_1_4.csv\")\n",
    "result_list_lm_5.to_csv(\"result_list_lm_5.csv\")\n",
    "result_list_lm_0.to_csv(\"result_list_lm_0.csv\")\n",
    "result_list_lm_1_4.to_csv(\"result_list_lm_1_4.csv\")"
   ]
  },
  {
   "cell_type": "markdown",
   "id": "19dafa58",
   "metadata": {},
   "source": [
    "### Calculate excess return"
   ]
  },
  {
   "cell_type": "code",
   "execution_count": 3,
   "id": "a41ea05d",
   "metadata": {},
   "outputs": [],
   "source": [
    "import wrds"
   ]
  },
  {
   "cell_type": "code",
   "execution_count": 170,
   "id": "e920fc99",
   "metadata": {},
   "outputs": [
    {
     "name": "stdout",
     "output_type": "stream",
     "text": [
      "Enter your WRDS username [aidosutebayev]:au2258\n",
      "Enter your password:········\n",
      "WRDS recommends setting up a .pgpass file.\n",
      "Create .pgpass file now [y/n]?: y\n",
      "Created .pgpass file successfully.\n",
      "You can create this file yourself at any time with the create_pgpass_file() function.\n",
      "Loading library list...\n",
      "Done\n"
     ]
    }
   ],
   "source": [
    "conn=wrds.Connection()"
   ]
  },
  {
   "cell_type": "code",
   "execution_count": 105,
   "id": "9a076535",
   "metadata": {},
   "outputs": [],
   "source": [
    "conn.list_libraries().sort()\n",
    "list1 = conn.list_libraries()"
   ]
  },
  {
   "cell_type": "code",
   "execution_count": 106,
   "id": "9a35cf67",
   "metadata": {},
   "outputs": [],
   "source": [
    "tables = {}\n",
    "for lib in list1:\n",
    "    try:\n",
    "        tables[lib] = conn.list_tables(library=lib)\n",
    "    except Exception as e:\n",
    "        print(f\"Couldn't get tables for {lib}\")"
   ]
  },
  {
   "cell_type": "code",
   "execution_count": 167,
   "id": "bcbfaa4d",
   "metadata": {},
   "outputs": [
    {
     "data": {
      "text/plain": [
       "'aha_sample: annual_survey'"
      ]
     },
     "execution_count": 167,
     "metadata": {},
     "output_type": "execute_result"
    }
   ],
   "source": [
    "libraries = []\n",
    "for table in tables.keys(): \n",
    "    for l in tables[table]:\n",
    "        libraries.append(f\"{table}: {l}\")\n",
    "libraries[0]"
   ]
  },
  {
   "cell_type": "code",
   "execution_count": 108,
   "id": "a3c171fa",
   "metadata": {},
   "outputs": [
    {
     "data": {
      "text/plain": [
       "522"
      ]
     },
     "execution_count": 108,
     "metadata": {},
     "output_type": "execute_result"
    }
   ],
   "source": [
    "cik_int = tuple(set(result_list_H_3))\n",
    "len(cik_int)"
   ]
  },
  {
   "cell_type": "code",
   "execution_count": 172,
   "id": "50e04c1f",
   "metadata": {},
   "outputs": [],
   "source": [
    "cik = []\n",
    "for number in cik_int:\n",
    "    temp_str = \"\"\n",
    "    number_str = str(number) \n",
    "    length = len(number_str)\n",
    "    if length<10:\n",
    "        temp_str = (10-length)*'0' + number_str\n",
    "    else:\n",
    "        temp_str = number_str\n",
    "    cik.append(temp_str)\n",
    "cik = tuple(set(cik))"
   ]
  },
  {
   "cell_type": "code",
   "execution_count": 173,
   "id": "f81226bf",
   "metadata": {},
   "outputs": [
    {
     "data": {
      "text/html": [
       "<div>\n",
       "<style scoped>\n",
       "    .dataframe tbody tr th:only-of-type {\n",
       "        vertical-align: middle;\n",
       "    }\n",
       "\n",
       "    .dataframe tbody tr th {\n",
       "        vertical-align: top;\n",
       "    }\n",
       "\n",
       "    .dataframe thead th {\n",
       "        text-align: right;\n",
       "    }\n",
       "</style>\n",
       "<table border=\"1\" class=\"dataframe\">\n",
       "  <thead>\n",
       "    <tr style=\"text-align: right;\">\n",
       "      <th></th>\n",
       "      <th>cik</th>\n",
       "      <th>coname</th>\n",
       "      <th>cusip_full</th>\n",
       "      <th>cusip</th>\n",
       "      <th>cikdate1</th>\n",
       "      <th>cikdate2</th>\n",
       "      <th>tmatch</th>\n",
       "      <th>issuer</th>\n",
       "      <th>issue</th>\n",
       "      <th>issue_check</th>\n",
       "      <th>validated</th>\n",
       "    </tr>\n",
       "  </thead>\n",
       "  <tbody>\n",
       "    <tr>\n",
       "      <th>0</th>\n",
       "      <td>0000001800</td>\n",
       "      <td>ABBOTT LABORATORIES</td>\n",
       "      <td>002824100</td>\n",
       "      <td>00282410</td>\n",
       "      <td>1994-02-14</td>\n",
       "      <td>2020-02-14</td>\n",
       "      <td>140.0</td>\n",
       "      <td>ABBOTT LABS</td>\n",
       "      <td>COM</td>\n",
       "      <td>0</td>\n",
       "      <td>3.0</td>\n",
       "    </tr>\n",
       "    <tr>\n",
       "      <th>1</th>\n",
       "      <td>0000002488</td>\n",
       "      <td>ADVANCED MICRO DEVICES INC</td>\n",
       "      <td>007903107</td>\n",
       "      <td>00790310</td>\n",
       "      <td>1994-02-10</td>\n",
       "      <td>2020-02-12</td>\n",
       "      <td>757.0</td>\n",
       "      <td>ADVANCED MICRO DEVICES INC</td>\n",
       "      <td>COM</td>\n",
       "      <td>7</td>\n",
       "      <td>3.0</td>\n",
       "    </tr>\n",
       "    <tr>\n",
       "      <th>2</th>\n",
       "      <td>0000002969</td>\n",
       "      <td>AIR PRODUCTS &amp; CHEMICALS INC /DE/</td>\n",
       "      <td>009158106</td>\n",
       "      <td>00915810</td>\n",
       "      <td>1996-02-12</td>\n",
       "      <td>2022-02-08</td>\n",
       "      <td>493.0</td>\n",
       "      <td>AIR PRODS &amp; CHEMS INC</td>\n",
       "      <td>COM</td>\n",
       "      <td>6</td>\n",
       "      <td>3.0</td>\n",
       "    </tr>\n",
       "    <tr>\n",
       "      <th>3</th>\n",
       "      <td>0000004127</td>\n",
       "      <td>SKYWORKS SOLUTIONS INC</td>\n",
       "      <td>83088M102</td>\n",
       "      <td>83088M10</td>\n",
       "      <td>2003-02-10</td>\n",
       "      <td>2024-09-10</td>\n",
       "      <td>446.0</td>\n",
       "      <td>SKYWORKS SOLUTIONS INC</td>\n",
       "      <td>COM</td>\n",
       "      <td>2</td>\n",
       "      <td>3.0</td>\n",
       "    </tr>\n",
       "    <tr>\n",
       "      <th>4</th>\n",
       "      <td>0000004281</td>\n",
       "      <td>Arconic Inc</td>\n",
       "      <td>03965L100</td>\n",
       "      <td>03965L10</td>\n",
       "      <td>2016-11-04</td>\n",
       "      <td>2020-05-11</td>\n",
       "      <td>80.0</td>\n",
       "      <td>ARCONIC INC</td>\n",
       "      <td>COM</td>\n",
       "      <td>0</td>\n",
       "      <td>1.0</td>\n",
       "    </tr>\n",
       "  </tbody>\n",
       "</table>\n",
       "</div>"
      ],
      "text/plain": [
       "          cik                             coname cusip_full     cusip  \\\n",
       "0  0000001800                ABBOTT LABORATORIES  002824100  00282410   \n",
       "1  0000002488         ADVANCED MICRO DEVICES INC  007903107  00790310   \n",
       "2  0000002969  AIR PRODUCTS & CHEMICALS INC /DE/  009158106  00915810   \n",
       "3  0000004127             SKYWORKS SOLUTIONS INC  83088M102  83088M10   \n",
       "4  0000004281                        Arconic Inc  03965L100  03965L10   \n",
       "\n",
       "     cikdate1    cikdate2  tmatch                      issuer issue  \\\n",
       "0  1994-02-14  2020-02-14   140.0                 ABBOTT LABS   COM   \n",
       "1  1994-02-10  2020-02-12   757.0  ADVANCED MICRO DEVICES INC   COM   \n",
       "2  1996-02-12  2022-02-08   493.0       AIR PRODS & CHEMS INC   COM   \n",
       "3  2003-02-10  2024-09-10   446.0      SKYWORKS SOLUTIONS INC   COM   \n",
       "4  2016-11-04  2020-05-11    80.0                 ARCONIC INC   COM   \n",
       "\n",
       "  issue_check  validated  \n",
       "0           0        3.0  \n",
       "1           7        3.0  \n",
       "2           6        3.0  \n",
       "3           2        3.0  \n",
       "4           0        1.0  "
      ]
     },
     "execution_count": 173,
     "metadata": {},
     "output_type": "execute_result"
    }
   ],
   "source": [
    "sp500 = conn.raw_sql(f\"\"\"\n",
    "                        select *\n",
    "                        from wrdssec.wciklink_cusip\n",
    "                        where cik in {cik} and cikdate2>='01/01/2019' and issuer IS NOT NULL;\n",
    "                        \"\"\")\n",
    "sp500.head()"
   ]
  },
  {
   "cell_type": "code",
   "execution_count": 111,
   "id": "6cec0b05",
   "metadata": {},
   "outputs": [
    {
     "data": {
      "text/plain": [
       "494"
      ]
     },
     "execution_count": 111,
     "metadata": {},
     "output_type": "execute_result"
    }
   ],
   "source": [
    "sp500_cusip = sp500[[\"cik\",\"cusip\"]]\n",
    "sp500_cusip.drop_duplicates()\n",
    "sp_cusip = tuple(sp500_cusip['cusip'].unique())\n",
    "len(sp_cusip)"
   ]
  },
  {
   "cell_type": "code",
   "execution_count": 112,
   "id": "1e7d2f48",
   "metadata": {},
   "outputs": [
    {
     "data": {
      "text/html": [
       "<div>\n",
       "<style scoped>\n",
       "    .dataframe tbody tr th:only-of-type {\n",
       "        vertical-align: middle;\n",
       "    }\n",
       "\n",
       "    .dataframe tbody tr th {\n",
       "        vertical-align: top;\n",
       "    }\n",
       "\n",
       "    .dataframe thead th {\n",
       "        text-align: right;\n",
       "    }\n",
       "</style>\n",
       "<table border=\"1\" class=\"dataframe\">\n",
       "  <thead>\n",
       "    <tr style=\"text-align: right;\">\n",
       "      <th></th>\n",
       "      <th>permno</th>\n",
       "    </tr>\n",
       "  </thead>\n",
       "  <tbody>\n",
       "    <tr>\n",
       "      <th>count</th>\n",
       "      <td>466.000000</td>\n",
       "    </tr>\n",
       "    <tr>\n",
       "      <th>mean</th>\n",
       "      <td>55881.587983</td>\n",
       "    </tr>\n",
       "    <tr>\n",
       "      <th>std</th>\n",
       "      <td>29605.724590</td>\n",
       "    </tr>\n",
       "    <tr>\n",
       "      <th>min</th>\n",
       "      <td>10104.000000</td>\n",
       "    </tr>\n",
       "    <tr>\n",
       "      <th>25%</th>\n",
       "      <td>23673.000000</td>\n",
       "    </tr>\n",
       "    <tr>\n",
       "      <th>50%</th>\n",
       "      <td>61113.500000</td>\n",
       "    </tr>\n",
       "    <tr>\n",
       "      <th>75%</th>\n",
       "      <td>84973.250000</td>\n",
       "    </tr>\n",
       "    <tr>\n",
       "      <th>max</th>\n",
       "      <td>93436.000000</td>\n",
       "    </tr>\n",
       "  </tbody>\n",
       "</table>\n",
       "</div>"
      ],
      "text/plain": [
       "             permno\n",
       "count    466.000000\n",
       "mean   55881.587983\n",
       "std    29605.724590\n",
       "min    10104.000000\n",
       "25%    23673.000000\n",
       "50%    61113.500000\n",
       "75%    84973.250000\n",
       "max    93436.000000"
      ]
     },
     "execution_count": 112,
     "metadata": {},
     "output_type": "execute_result"
    }
   ],
   "source": [
    "sp500_permno = conn.raw_sql(f\"\"\"\n",
    "                        select DISTINCT cusip, permno\n",
    "                        from crsp.dsf\n",
    "                        where cusip in {sp_cusip} and permno is not null;\"\"\")\n",
    "\n",
    "sp500_permno.describe()"
   ]
  },
  {
   "cell_type": "code",
   "execution_count": 168,
   "id": "7faa3be9",
   "metadata": {},
   "outputs": [
    {
     "data": {
      "text/plain": [
       "(14541, 44601, 64995, 13210, 43350)"
      ]
     },
     "execution_count": 168,
     "metadata": {},
     "output_type": "execute_result"
    }
   ],
   "source": [
    "permno_list = tuple(sp500_permno['permno'])\n",
    "permno_list[:5]"
   ]
  },
  {
   "cell_type": "code",
   "execution_count": 114,
   "id": "3a5780d3",
   "metadata": {},
   "outputs": [
    {
     "data": {
      "text/html": [
       "<div>\n",
       "<style scoped>\n",
       "    .dataframe tbody tr th:only-of-type {\n",
       "        vertical-align: middle;\n",
       "    }\n",
       "\n",
       "    .dataframe tbody tr th {\n",
       "        vertical-align: top;\n",
       "    }\n",
       "\n",
       "    .dataframe thead th {\n",
       "        text-align: right;\n",
       "    }\n",
       "</style>\n",
       "<table border=\"1\" class=\"dataframe\">\n",
       "  <thead>\n",
       "    <tr style=\"text-align: right;\">\n",
       "      <th></th>\n",
       "      <th>permno</th>\n",
       "      <th>date</th>\n",
       "      <th>ret</th>\n",
       "    </tr>\n",
       "  </thead>\n",
       "  <tbody>\n",
       "    <tr>\n",
       "      <th>0</th>\n",
       "      <td>86580</td>\n",
       "      <td>2019-01-02</td>\n",
       "      <td>0.020375</td>\n",
       "    </tr>\n",
       "    <tr>\n",
       "      <th>1</th>\n",
       "      <td>10696</td>\n",
       "      <td>2019-01-02</td>\n",
       "      <td>-0.017417</td>\n",
       "    </tr>\n",
       "    <tr>\n",
       "      <th>2</th>\n",
       "      <td>91849</td>\n",
       "      <td>2019-01-02</td>\n",
       "      <td>-0.012156</td>\n",
       "    </tr>\n",
       "    <tr>\n",
       "      <th>3</th>\n",
       "      <td>80286</td>\n",
       "      <td>2019-01-02</td>\n",
       "      <td>-0.014501</td>\n",
       "    </tr>\n",
       "    <tr>\n",
       "      <th>4</th>\n",
       "      <td>42906</td>\n",
       "      <td>2019-01-02</td>\n",
       "      <td>0.018456</td>\n",
       "    </tr>\n",
       "  </tbody>\n",
       "</table>\n",
       "</div>"
      ],
      "text/plain": [
       "   permno        date       ret\n",
       "0   86580  2019-01-02  0.020375\n",
       "1   10696  2019-01-02 -0.017417\n",
       "2   91849  2019-01-02 -0.012156\n",
       "3   80286  2019-01-02 -0.014501\n",
       "4   42906  2019-01-02  0.018456"
      ]
     },
     "execution_count": 114,
     "metadata": {},
     "output_type": "execute_result"
    }
   ],
   "source": [
    "sp500_returns = conn.raw_sql(f\"\"\"\n",
    "                        select permno, date, ret\n",
    "                        from crsp.dsf\n",
    "                        where date>='01/01/2019' and date<='12/31/2023'  and permno in {permno_list}\n",
    "                        order by date;\"\"\")\n",
    "\n",
    "sp500_returns.head()"
   ]
  },
  {
   "cell_type": "code",
   "execution_count": 115,
   "id": "96780bf1",
   "metadata": {},
   "outputs": [
    {
     "data": {
      "text/html": [
       "<div>\n",
       "<style scoped>\n",
       "    .dataframe tbody tr th:only-of-type {\n",
       "        vertical-align: middle;\n",
       "    }\n",
       "\n",
       "    .dataframe tbody tr th {\n",
       "        vertical-align: top;\n",
       "    }\n",
       "\n",
       "    .dataframe thead th {\n",
       "        text-align: right;\n",
       "    }\n",
       "</style>\n",
       "<table border=\"1\" class=\"dataframe\">\n",
       "  <thead>\n",
       "    <tr style=\"text-align: right;\">\n",
       "      <th></th>\n",
       "      <th>cik</th>\n",
       "      <th>cusip</th>\n",
       "      <th>permno</th>\n",
       "    </tr>\n",
       "  </thead>\n",
       "  <tbody>\n",
       "    <tr>\n",
       "      <th>0</th>\n",
       "      <td>0000001800</td>\n",
       "      <td>00282410</td>\n",
       "      <td>20482</td>\n",
       "    </tr>\n",
       "    <tr>\n",
       "      <th>1</th>\n",
       "      <td>0000002488</td>\n",
       "      <td>00790310</td>\n",
       "      <td>61241</td>\n",
       "    </tr>\n",
       "    <tr>\n",
       "      <th>2</th>\n",
       "      <td>0000002969</td>\n",
       "      <td>00915810</td>\n",
       "      <td>28222</td>\n",
       "    </tr>\n",
       "    <tr>\n",
       "      <th>3</th>\n",
       "      <td>0000004127</td>\n",
       "      <td>83088M10</td>\n",
       "      <td>45911</td>\n",
       "    </tr>\n",
       "    <tr>\n",
       "      <th>4</th>\n",
       "      <td>0000004447</td>\n",
       "      <td>42809H10</td>\n",
       "      <td>28484</td>\n",
       "    </tr>\n",
       "  </tbody>\n",
       "</table>\n",
       "</div>"
      ],
      "text/plain": [
       "          cik     cusip  permno\n",
       "0  0000001800  00282410   20482\n",
       "1  0000002488  00790310   61241\n",
       "2  0000002969  00915810   28222\n",
       "3  0000004127  83088M10   45911\n",
       "4  0000004447  42809H10   28484"
      ]
     },
     "execution_count": 115,
     "metadata": {},
     "output_type": "execute_result"
    }
   ],
   "source": [
    "merged_cusip=pd.merge(sp500_cusip[[\"cik\", \"cusip\"]], sp500_permno[[\"cusip\", \"permno\"]], on='cusip', how='inner')\n",
    "merged_cusip.head()"
   ]
  },
  {
   "cell_type": "code",
   "execution_count": 116,
   "id": "0ae3ce0d",
   "metadata": {},
   "outputs": [],
   "source": [
    "merged_cusip=merged_cusip[[\"cik\",\"permno\"]].drop_duplicates(subset=['cik']).dropna()"
   ]
  },
  {
   "cell_type": "code",
   "execution_count": 117,
   "id": "5e2d8d14",
   "metadata": {},
   "outputs": [
    {
     "data": {
      "text/html": [
       "<div>\n",
       "<style scoped>\n",
       "    .dataframe tbody tr th:only-of-type {\n",
       "        vertical-align: middle;\n",
       "    }\n",
       "\n",
       "    .dataframe tbody tr th {\n",
       "        vertical-align: top;\n",
       "    }\n",
       "\n",
       "    .dataframe thead th {\n",
       "        text-align: right;\n",
       "    }\n",
       "</style>\n",
       "<table border=\"1\" class=\"dataframe\">\n",
       "  <thead>\n",
       "    <tr style=\"text-align: right;\">\n",
       "      <th></th>\n",
       "      <th>cik</th>\n",
       "      <th>permno</th>\n",
       "      <th>date</th>\n",
       "      <th>ret</th>\n",
       "    </tr>\n",
       "  </thead>\n",
       "  <tbody>\n",
       "    <tr>\n",
       "      <th>0</th>\n",
       "      <td>0000001800</td>\n",
       "      <td>20482</td>\n",
       "      <td>2019-01-02</td>\n",
       "      <td>-0.039126</td>\n",
       "    </tr>\n",
       "    <tr>\n",
       "      <th>1</th>\n",
       "      <td>0000001800</td>\n",
       "      <td>20482</td>\n",
       "      <td>2019-01-03</td>\n",
       "      <td>-0.047194</td>\n",
       "    </tr>\n",
       "    <tr>\n",
       "      <th>2</th>\n",
       "      <td>0000001800</td>\n",
       "      <td>20482</td>\n",
       "      <td>2019-01-04</td>\n",
       "      <td>0.028541</td>\n",
       "    </tr>\n",
       "    <tr>\n",
       "      <th>3</th>\n",
       "      <td>0000001800</td>\n",
       "      <td>20482</td>\n",
       "      <td>2019-01-07</td>\n",
       "      <td>0.014976</td>\n",
       "    </tr>\n",
       "    <tr>\n",
       "      <th>4</th>\n",
       "      <td>0000001800</td>\n",
       "      <td>20482</td>\n",
       "      <td>2019-01-08</td>\n",
       "      <td>-0.012006</td>\n",
       "    </tr>\n",
       "  </tbody>\n",
       "</table>\n",
       "</div>"
      ],
      "text/plain": [
       "          cik  permno        date       ret\n",
       "0  0000001800   20482  2019-01-02 -0.039126\n",
       "1  0000001800   20482  2019-01-03 -0.047194\n",
       "2  0000001800   20482  2019-01-04  0.028541\n",
       "3  0000001800   20482  2019-01-07  0.014976\n",
       "4  0000001800   20482  2019-01-08 -0.012006"
      ]
     },
     "execution_count": 117,
     "metadata": {},
     "output_type": "execute_result"
    }
   ],
   "source": [
    "final_data=pd.merge(merged_cusip, sp500_returns, on='permno', how='inner').dropna()\n",
    "final_data=final_data[['cik', 'permno', 'date', 'ret']]\n",
    "final_data.head()"
   ]
  },
  {
   "cell_type": "code",
   "execution_count": 118,
   "id": "1e3180d0",
   "metadata": {},
   "outputs": [
    {
     "data": {
      "text/plain": [
       "cik       0\n",
       "permno    0\n",
       "date      0\n",
       "ret       0\n",
       "dtype: int64"
      ]
     },
     "execution_count": 118,
     "metadata": {},
     "output_type": "execute_result"
    }
   ],
   "source": [
    "final_data.isnull().sum()"
   ]
  },
  {
   "cell_type": "code",
   "execution_count": 119,
   "id": "fb19b32e",
   "metadata": {},
   "outputs": [],
   "source": [
    "sp500_index_return = conn.raw_sql(\"\"\"\n",
    "    SELECT caldt, sprtrn\n",
    "    FROM crsp.dsp500\n",
    "    WHERE caldt >= '2019-01-01' AND caldt <= '2023-12-31'\n",
    "\"\"\")"
   ]
  },
  {
   "cell_type": "code",
   "execution_count": 120,
   "id": "918dee6d",
   "metadata": {},
   "outputs": [
    {
     "name": "stdout",
     "output_type": "stream",
     "text": [
      "<class 'pandas.core.frame.DataFrame'>\n",
      "RangeIndex: 1258 entries, 0 to 1257\n",
      "Data columns (total 2 columns):\n",
      " #   Column  Non-Null Count  Dtype  \n",
      "---  ------  --------------  -----  \n",
      " 0   date    1258 non-null   object \n",
      " 1   sprtrn  1258 non-null   float64\n",
      "dtypes: float64(1), object(1)\n",
      "memory usage: 19.8+ KB\n"
     ]
    }
   ],
   "source": [
    "sp500_index_return.rename(columns={'caldt':\"date\"}, inplace=True)\n",
    "sp500_index_return.info()"
   ]
  },
  {
   "cell_type": "code",
   "execution_count": 121,
   "id": "0c38672d",
   "metadata": {},
   "outputs": [],
   "source": [
    "sp500_index_return['date']=pd.to_datetime(sp500_index_return['date'])\n",
    "final_data['date']=pd.to_datetime(final_data['date'])"
   ]
  },
  {
   "cell_type": "code",
   "execution_count": 122,
   "id": "7a1ebb06",
   "metadata": {},
   "outputs": [
    {
     "data": {
      "text/html": [
       "<div>\n",
       "<style scoped>\n",
       "    .dataframe tbody tr th:only-of-type {\n",
       "        vertical-align: middle;\n",
       "    }\n",
       "\n",
       "    .dataframe tbody tr th {\n",
       "        vertical-align: top;\n",
       "    }\n",
       "\n",
       "    .dataframe thead th {\n",
       "        text-align: right;\n",
       "    }\n",
       "</style>\n",
       "<table border=\"1\" class=\"dataframe\">\n",
       "  <thead>\n",
       "    <tr style=\"text-align: right;\">\n",
       "      <th></th>\n",
       "      <th>cik</th>\n",
       "      <th>permno</th>\n",
       "      <th>date</th>\n",
       "      <th>ret</th>\n",
       "      <th>sprtrn</th>\n",
       "    </tr>\n",
       "  </thead>\n",
       "  <tbody>\n",
       "    <tr>\n",
       "      <th>0</th>\n",
       "      <td>0000001800</td>\n",
       "      <td>20482</td>\n",
       "      <td>2019-01-02</td>\n",
       "      <td>-0.039126</td>\n",
       "      <td>0.001269</td>\n",
       "    </tr>\n",
       "    <tr>\n",
       "      <th>1</th>\n",
       "      <td>0000001800</td>\n",
       "      <td>20482</td>\n",
       "      <td>2019-01-03</td>\n",
       "      <td>-0.047194</td>\n",
       "      <td>-0.024757</td>\n",
       "    </tr>\n",
       "    <tr>\n",
       "      <th>2</th>\n",
       "      <td>0000001800</td>\n",
       "      <td>20482</td>\n",
       "      <td>2019-01-04</td>\n",
       "      <td>0.028541</td>\n",
       "      <td>0.034336</td>\n",
       "    </tr>\n",
       "    <tr>\n",
       "      <th>3</th>\n",
       "      <td>0000001800</td>\n",
       "      <td>20482</td>\n",
       "      <td>2019-01-07</td>\n",
       "      <td>0.014976</td>\n",
       "      <td>0.007010</td>\n",
       "    </tr>\n",
       "    <tr>\n",
       "      <th>4</th>\n",
       "      <td>0000001800</td>\n",
       "      <td>20482</td>\n",
       "      <td>2019-01-08</td>\n",
       "      <td>-0.012006</td>\n",
       "      <td>0.009695</td>\n",
       "    </tr>\n",
       "  </tbody>\n",
       "</table>\n",
       "</div>"
      ],
      "text/plain": [
       "          cik  permno       date       ret    sprtrn\n",
       "0  0000001800   20482 2019-01-02 -0.039126  0.001269\n",
       "1  0000001800   20482 2019-01-03 -0.047194 -0.024757\n",
       "2  0000001800   20482 2019-01-04  0.028541  0.034336\n",
       "3  0000001800   20482 2019-01-07  0.014976  0.007010\n",
       "4  0000001800   20482 2019-01-08 -0.012006  0.009695"
      ]
     },
     "execution_count": 122,
     "metadata": {},
     "output_type": "execute_result"
    }
   ],
   "source": [
    "merged_data = pd.merge(final_data, sp500_index_return, on='date', how='left')\n",
    "merged_data.head()"
   ]
  },
  {
   "cell_type": "code",
   "execution_count": 123,
   "id": "4ecae0ec",
   "metadata": {},
   "outputs": [
    {
     "data": {
      "text/html": [
       "<div>\n",
       "<style scoped>\n",
       "    .dataframe tbody tr th:only-of-type {\n",
       "        vertical-align: middle;\n",
       "    }\n",
       "\n",
       "    .dataframe tbody tr th {\n",
       "        vertical-align: top;\n",
       "    }\n",
       "\n",
       "    .dataframe thead th {\n",
       "        text-align: right;\n",
       "    }\n",
       "</style>\n",
       "<table border=\"1\" class=\"dataframe\">\n",
       "  <thead>\n",
       "    <tr style=\"text-align: right;\">\n",
       "      <th></th>\n",
       "      <th>result_list_lm_1</th>\n",
       "      <th>result_list_lm_2</th>\n",
       "      <th>result_list_lm_3</th>\n",
       "      <th>result_list_lm_4</th>\n",
       "      <th>filing_date</th>\n",
       "    </tr>\n",
       "  </thead>\n",
       "  <tbody>\n",
       "    <tr>\n",
       "      <th>0</th>\n",
       "      <td>817497</td>\n",
       "      <td>0.003858</td>\n",
       "      <td>723254</td>\n",
       "      <td>20220727</td>\n",
       "      <td>2022-07-27</td>\n",
       "    </tr>\n",
       "    <tr>\n",
       "      <th>1</th>\n",
       "      <td>761585</td>\n",
       "      <td>0.003744</td>\n",
       "      <td>723254</td>\n",
       "      <td>20230727</td>\n",
       "      <td>2023-07-27</td>\n",
       "    </tr>\n",
       "    <tr>\n",
       "      <th>2</th>\n",
       "      <td>1884712</td>\n",
       "      <td>0.001535</td>\n",
       "      <td>723254</td>\n",
       "      <td>20190726</td>\n",
       "      <td>2019-07-26</td>\n",
       "    </tr>\n",
       "    <tr>\n",
       "      <th>3</th>\n",
       "      <td>784237</td>\n",
       "      <td>0.004049</td>\n",
       "      <td>723254</td>\n",
       "      <td>20210728</td>\n",
       "      <td>2021-07-28</td>\n",
       "    </tr>\n",
       "    <tr>\n",
       "      <th>4</th>\n",
       "      <td>1078418</td>\n",
       "      <td>0.003265</td>\n",
       "      <td>723254</td>\n",
       "      <td>20200729</td>\n",
       "      <td>2020-07-29</td>\n",
       "    </tr>\n",
       "  </tbody>\n",
       "</table>\n",
       "</div>"
      ],
      "text/plain": [
       "   result_list_lm_1  result_list_lm_2  result_list_lm_3  result_list_lm_4  \\\n",
       "0            817497          0.003858            723254          20220727   \n",
       "1            761585          0.003744            723254          20230727   \n",
       "2           1884712          0.001535            723254          20190726   \n",
       "3            784237          0.004049            723254          20210728   \n",
       "4           1078418          0.003265            723254          20200729   \n",
       "\n",
       "  filing_date  \n",
       "0  2022-07-27  \n",
       "1  2023-07-27  \n",
       "2  2019-07-26  \n",
       "3  2021-07-28  \n",
       "4  2020-07-29  "
      ]
     },
     "execution_count": 123,
     "metadata": {},
     "output_type": "execute_result"
    }
   ],
   "source": [
    "import statsmodels.api as sm\n",
    "\n",
    "df=pd.read_csv('result_list_lm_1_4.csv')\n",
    "df.drop(columns=[\"Unnamed: 0\", \"index\"], inplace=True)\n",
    "df['filing_date']=pd.to_datetime(df['result_list_lm_4'], format='%Y%m%d')\n",
    "merged_data['date']=pd.to_datetime(merged_data['date'])\n",
    "df.head()"
   ]
  },
  {
   "cell_type": "code",
   "execution_count": 124,
   "id": "1376bf14",
   "metadata": {},
   "outputs": [
    {
     "data": {
      "text/html": [
       "<div>\n",
       "<style scoped>\n",
       "    .dataframe tbody tr th:only-of-type {\n",
       "        vertical-align: middle;\n",
       "    }\n",
       "\n",
       "    .dataframe tbody tr th {\n",
       "        vertical-align: top;\n",
       "    }\n",
       "\n",
       "    .dataframe thead th {\n",
       "        text-align: right;\n",
       "    }\n",
       "</style>\n",
       "<table border=\"1\" class=\"dataframe\">\n",
       "  <thead>\n",
       "    <tr style=\"text-align: right;\">\n",
       "      <th></th>\n",
       "      <th>cik</th>\n",
       "      <th>permno</th>\n",
       "      <th>date</th>\n",
       "      <th>ret</th>\n",
       "      <th>sprtrn</th>\n",
       "    </tr>\n",
       "  </thead>\n",
       "  <tbody>\n",
       "    <tr>\n",
       "      <th>0</th>\n",
       "      <td>1800</td>\n",
       "      <td>20482</td>\n",
       "      <td>2019-01-02</td>\n",
       "      <td>-0.039126</td>\n",
       "      <td>0.001269</td>\n",
       "    </tr>\n",
       "    <tr>\n",
       "      <th>1</th>\n",
       "      <td>1800</td>\n",
       "      <td>20482</td>\n",
       "      <td>2019-01-03</td>\n",
       "      <td>-0.047194</td>\n",
       "      <td>-0.024757</td>\n",
       "    </tr>\n",
       "    <tr>\n",
       "      <th>2</th>\n",
       "      <td>1800</td>\n",
       "      <td>20482</td>\n",
       "      <td>2019-01-04</td>\n",
       "      <td>0.028541</td>\n",
       "      <td>0.034336</td>\n",
       "    </tr>\n",
       "    <tr>\n",
       "      <th>3</th>\n",
       "      <td>1800</td>\n",
       "      <td>20482</td>\n",
       "      <td>2019-01-07</td>\n",
       "      <td>0.014976</td>\n",
       "      <td>0.007010</td>\n",
       "    </tr>\n",
       "    <tr>\n",
       "      <th>4</th>\n",
       "      <td>1800</td>\n",
       "      <td>20482</td>\n",
       "      <td>2019-01-08</td>\n",
       "      <td>-0.012006</td>\n",
       "      <td>0.009695</td>\n",
       "    </tr>\n",
       "  </tbody>\n",
       "</table>\n",
       "</div>"
      ],
      "text/plain": [
       "    cik  permno       date       ret    sprtrn\n",
       "0  1800   20482 2019-01-02 -0.039126  0.001269\n",
       "1  1800   20482 2019-01-03 -0.047194 -0.024757\n",
       "2  1800   20482 2019-01-04  0.028541  0.034336\n",
       "3  1800   20482 2019-01-07  0.014976  0.007010\n",
       "4  1800   20482 2019-01-08 -0.012006  0.009695"
      ]
     },
     "execution_count": 124,
     "metadata": {},
     "output_type": "execute_result"
    }
   ],
   "source": [
    "merged_data['cik'] = merged_data['cik'].astype('int32')\n",
    "merged_data.head()"
   ]
  },
  {
   "cell_type": "code",
   "execution_count": 125,
   "id": "a15a8cb6",
   "metadata": {},
   "outputs": [
    {
     "data": {
      "text/html": [
       "<div>\n",
       "<style scoped>\n",
       "    .dataframe tbody tr th:only-of-type {\n",
       "        vertical-align: middle;\n",
       "    }\n",
       "\n",
       "    .dataframe tbody tr th {\n",
       "        vertical-align: top;\n",
       "    }\n",
       "\n",
       "    .dataframe thead th {\n",
       "        text-align: right;\n",
       "    }\n",
       "</style>\n",
       "<table border=\"1\" class=\"dataframe\">\n",
       "  <thead>\n",
       "    <tr style=\"text-align: right;\">\n",
       "      <th></th>\n",
       "      <th>cik</th>\n",
       "      <th>filing_date</th>\n",
       "      <th>beta</th>\n",
       "      <th>alpha</th>\n",
       "    </tr>\n",
       "  </thead>\n",
       "  <tbody>\n",
       "    <tr>\n",
       "      <th>0</th>\n",
       "      <td>723254</td>\n",
       "      <td>2022-07-27</td>\n",
       "      <td>0.996820</td>\n",
       "      <td>0.001022</td>\n",
       "    </tr>\n",
       "    <tr>\n",
       "      <th>1</th>\n",
       "      <td>723254</td>\n",
       "      <td>2023-07-27</td>\n",
       "      <td>0.770001</td>\n",
       "      <td>0.001046</td>\n",
       "    </tr>\n",
       "    <tr>\n",
       "      <th>2</th>\n",
       "      <td>723254</td>\n",
       "      <td>2019-07-26</td>\n",
       "      <td>0.644778</td>\n",
       "      <td>0.002841</td>\n",
       "    </tr>\n",
       "    <tr>\n",
       "      <th>3</th>\n",
       "      <td>723254</td>\n",
       "      <td>2021-07-28</td>\n",
       "      <td>1.283750</td>\n",
       "      <td>0.000981</td>\n",
       "    </tr>\n",
       "    <tr>\n",
       "      <th>4</th>\n",
       "      <td>723254</td>\n",
       "      <td>2020-07-29</td>\n",
       "      <td>1.294558</td>\n",
       "      <td>0.002276</td>\n",
       "    </tr>\n",
       "  </tbody>\n",
       "</table>\n",
       "</div>"
      ],
      "text/plain": [
       "      cik filing_date      beta     alpha\n",
       "0  723254  2022-07-27  0.996820  0.001022\n",
       "1  723254  2023-07-27  0.770001  0.001046\n",
       "2  723254  2019-07-26  0.644778  0.002841\n",
       "3  723254  2021-07-28  1.283750  0.000981\n",
       "4  723254  2020-07-29  1.294558  0.002276"
      ]
     },
     "execution_count": 125,
     "metadata": {},
     "output_type": "execute_result"
    }
   ],
   "source": [
    "beta_list=[]\n",
    "for _, row in df.iterrows():\n",
    "  cik=row['result_list_lm_3']\n",
    "  filing_date=row['filing_date']\n",
    "  regression_window=merged_data[(merged_data['cik']==cik)&(merged_data['date']>=filing_date-pd.Timedelta(days=90))&(merged_data['date']<filing_date)]\n",
    "\n",
    "  if not regression_window.empty:\n",
    "    X=regression_window['sprtrn']\n",
    "    X=sm.add_constant(X)\n",
    "    Y=regression_window['ret']\n",
    "    model=sm.OLS(Y, X).fit()\n",
    "    if 'const' in model.params:\n",
    "      alpha=model.params['const']\n",
    "    else:\n",
    "      alpha=0\n",
    "    beta=model.params['sprtrn']\n",
    "\n",
    "    beta_list.append({'cik':cik, 'filing_date': filing_date, 'beta': beta, 'alpha': alpha})\n",
    "beta_df=pd.DataFrame(beta_list)\n",
    "beta_df.head()"
   ]
  },
  {
   "cell_type": "code",
   "execution_count": 144,
   "id": "ac564a0f",
   "metadata": {},
   "outputs": [
    {
     "name": "stdout",
     "output_type": "stream",
     "text": [
      "Average Excess Returns:\n"
     ]
    },
    {
     "data": {
      "text/html": [
       "<div>\n",
       "<style scoped>\n",
       "    .dataframe tbody tr th:only-of-type {\n",
       "        vertical-align: middle;\n",
       "    }\n",
       "\n",
       "    .dataframe tbody tr th {\n",
       "        vertical-align: top;\n",
       "    }\n",
       "\n",
       "    .dataframe thead th {\n",
       "        text-align: right;\n",
       "    }\n",
       "</style>\n",
       "<table border=\"1\" class=\"dataframe\">\n",
       "  <thead>\n",
       "    <tr style=\"text-align: right;\">\n",
       "      <th></th>\n",
       "      <th>cik</th>\n",
       "      <th>filing_date</th>\n",
       "      <th>avg_excess_return</th>\n",
       "    </tr>\n",
       "  </thead>\n",
       "  <tbody>\n",
       "    <tr>\n",
       "      <th>0</th>\n",
       "      <td>723254</td>\n",
       "      <td>2022-07-27</td>\n",
       "      <td>0.000866</td>\n",
       "    </tr>\n",
       "    <tr>\n",
       "      <th>1</th>\n",
       "      <td>723254</td>\n",
       "      <td>2023-07-27</td>\n",
       "      <td>-0.006859</td>\n",
       "    </tr>\n",
       "    <tr>\n",
       "      <th>2</th>\n",
       "      <td>723254</td>\n",
       "      <td>2019-07-26</td>\n",
       "      <td>-0.001674</td>\n",
       "    </tr>\n",
       "    <tr>\n",
       "      <th>3</th>\n",
       "      <td>723254</td>\n",
       "      <td>2021-07-28</td>\n",
       "      <td>0.002909</td>\n",
       "    </tr>\n",
       "    <tr>\n",
       "      <th>4</th>\n",
       "      <td>723254</td>\n",
       "      <td>2020-07-29</td>\n",
       "      <td>-0.008962</td>\n",
       "    </tr>\n",
       "  </tbody>\n",
       "</table>\n",
       "</div>"
      ],
      "text/plain": [
       "      cik filing_date  avg_excess_return\n",
       "0  723254  2022-07-27           0.000866\n",
       "1  723254  2023-07-27          -0.006859\n",
       "2  723254  2019-07-26          -0.001674\n",
       "3  723254  2021-07-28           0.002909\n",
       "4  723254  2020-07-29          -0.008962"
      ]
     },
     "execution_count": 144,
     "metadata": {},
     "output_type": "execute_result"
    }
   ],
   "source": [
    "trading_dates = merged_data['date'].drop_duplicates().sort_values().tolist()\n",
    "\n",
    "def get_next_trading_days(filing_date, trading_dates, num_days=4):\n",
    "    if filing_date not in trading_dates:\n",
    "        filing_date = min([date for date in trading_dates if date > filing_date])\n",
    "    filing_idx = trading_dates.index(filing_date)\n",
    "    return trading_dates[filing_idx: filing_idx + num_days]\n",
    "\n",
    "excess_returns_avg_list = []\n",
    "\n",
    "for _, row in beta_df.iterrows():\n",
    "    cik = row['cik']\n",
    "    filing_date = row['filing_date']\n",
    "    beta = row['beta']\n",
    "\n",
    "    next_4_trading_days = get_next_trading_days(filing_date, trading_dates, num_days=4)\n",
    "\n",
    "    post_filing_window = merged_data[(merged_data['cik'] == cik) &\n",
    "                                     (merged_data['date'].isin(next_4_trading_days))].copy()\n",
    "\n",
    "\n",
    "    if not post_filing_window.empty:\n",
    "        post_filing_window['excess_return'] = post_filing_window.apply(\n",
    "            lambda row: row['ret'] - beta * row['sprtrn'], axis=1\n",
    "        )\n",
    "\n",
    "        avg_excess_return = post_filing_window['excess_return'].median()\n",
    "\n",
    "        excess_returns_avg_list.append({\n",
    "            'cik': cik,\n",
    "            'filing_date': filing_date,\n",
    "            'avg_excess_return': avg_excess_return\n",
    "        })\n",
    "\n",
    "average_excess_returns_df = pd.DataFrame(excess_returns_avg_list)\n",
    "\n",
    "print(\"Average Excess Returns:\")\n",
    "average_excess_returns_df.head()"
   ]
  },
  {
   "cell_type": "code",
   "execution_count": 145,
   "id": "9f395553",
   "metadata": {},
   "outputs": [],
   "source": [
    "average_excess_returns_df.to_csv('average_excess_returns.csv', index=False)"
   ]
  },
  {
   "cell_type": "markdown",
   "id": "0b4be5c8",
   "metadata": {},
   "source": [
    "### Get proportion result of LM & Harvard Dictionary"
   ]
  },
  {
   "cell_type": "code",
   "execution_count": 146,
   "id": "b46f61cb",
   "metadata": {},
   "outputs": [],
   "source": [
    "sp500_excessrtn = pd.read_csv('/Users/aidosutebayev/Desktop/NYU/average_excess_returns.csv')\n",
    "result_list_H_0 = pd.read_csv('/Users/aidosutebayev/Desktop/NYU/result_list_H_0.csv')\n",
    "result_list_H_1 = pd.read_csv('/Users/aidosutebayev/Desktop/NYU/result_list_H_1.csv')\n",
    "result_list_H_2 = pd.read_csv('/Users/aidosutebayev/Desktop/NYU/result_list_H_2.csv')\n",
    "result_list_H_3 = pd.read_csv('/Users/aidosutebayev/Desktop/NYU/result_list_H_3.csv')\n",
    "result_list_H_4 = pd.read_csv('/Users/aidosutebayev/Desktop/NYU/result_list_H_4.csv')\n",
    "result_list_H_5 = pd.read_csv('/Users/aidosutebayev/Desktop/NYU/result_list_H_5.csv')"
   ]
  },
  {
   "cell_type": "code",
   "execution_count": 147,
   "id": "d8305c7c",
   "metadata": {},
   "outputs": [],
   "source": [
    "result_list_H_0.drop(columns=\"neg\", inplace=True)"
   ]
  },
  {
   "cell_type": "code",
   "execution_count": 148,
   "id": "5557e841",
   "metadata": {},
   "outputs": [],
   "source": [
    "result_list_H_5.drop(columns=\"neg\", inplace=True)"
   ]
  },
  {
   "cell_type": "code",
   "execution_count": 149,
   "id": "8874af44",
   "metadata": {},
   "outputs": [],
   "source": [
    "result_list_H_1=result_list_H_1['0'].to_list()\n",
    "result_list_H_2=result_list_H_2['0'].to_list()\n",
    "result_list_H_3=result_list_H_3['0'].to_list()\n",
    "result_list_H_4=result_list_H_4['0'].to_list()"
   ]
  },
  {
   "cell_type": "code",
   "execution_count": 150,
   "id": "92e8f206",
   "metadata": {},
   "outputs": [],
   "source": [
    "result_list_lm_0 = pd.read_csv('/Users/aidosutebayev/Desktop/NYU/result_list_lm_0.csv')\n",
    "result_list_lm_1 = pd.read_csv('/Users/aidosutebayev/Desktop/NYU/result_list_lm_1.csv')\n",
    "result_list_lm_2 = pd.read_csv('/Users/aidosutebayev/Desktop/NYU/result_list_lm_2.csv')\n",
    "result_list_lm_3 = pd.read_csv('/Users/aidosutebayev/Desktop/NYU/result_list_lm_3.csv')\n",
    "result_list_lm_4 = pd.read_csv('/Users/aidosutebayev/Desktop/NYU/result_list_lm_4.csv')\n",
    "result_list_lm_5 = pd.read_csv('/Users/aidosutebayev/Desktop/NYU/result_list_lm_5.csv')\n"
   ]
  },
  {
   "cell_type": "code",
   "execution_count": 151,
   "id": "5cdf22c8",
   "metadata": {},
   "outputs": [],
   "source": [
    "result_list_lm_0.drop(columns=\"neg\", inplace=True)\n"
   ]
  },
  {
   "cell_type": "code",
   "execution_count": 152,
   "id": "aaae9e7c",
   "metadata": {},
   "outputs": [],
   "source": [
    "result_list_lm_5.drop(columns=\"neg\", inplace=True)"
   ]
  },
  {
   "cell_type": "code",
   "execution_count": 153,
   "id": "35ae6e70",
   "metadata": {},
   "outputs": [],
   "source": [
    "result_list_lm_1=result_list_lm_1['0'].to_list()\n",
    "result_list_lm_2=result_list_lm_2['0'].to_list()\n",
    "result_list_lm_3=result_list_lm_3['0'].to_list()\n",
    "result_list_lm_4=result_list_lm_4['0'].to_list()"
   ]
  },
  {
   "cell_type": "code",
   "execution_count": 155,
   "id": "515b9cef",
   "metadata": {},
   "outputs": [
    {
     "name": "stderr",
     "output_type": "stream",
     "text": [
      "/var/folders/9x/srv3h8gx32z9h7gqd2pbh94m0000gn/T/ipykernel_50120/3159629820.py:9: RuntimeWarning: divide by zero encountered in log\n",
      "  part1 = 1+np.log(mat1)\n"
     ]
    }
   ],
   "source": [
    "\n",
    "mat1 = result_list_lm_0.to_numpy()\n",
    "mat2 = result_list_lm_5.to_numpy()\n",
    "mat3 = result_list_lm_1\n",
    "N = len(mat1[0])\n",
    "df = mat2.sum(axis=1)\n",
    "\n",
    "import numpy as np\n",
    "from numpy import inf\n",
    "part1 = 1+np.log(mat1)\n",
    "part2 = 1+np.log(mat3)\n",
    "part3 = np.log(N/df)\n",
    "\n",
    "part1[np.isneginf(part1)] = 0\n",
    "part2[np.isneginf(part2)] = 0\n",
    "part3[np.isneginf(part3)] = 0\n",
    "\n",
    "part3 = part3[:,np.newaxis]\n",
    "#part3 = part3.T\n",
    "#part1 = part1.T\n",
    "tfidf = np.divide(part1,part2)*part3\n",
    "result_tfidf = tfidf.sum(axis=0)\n",
    "result_LM = pd.DataFrame(list(zip(result_tfidf,result_list_lm_2, result_list_lm_3)),\n",
    "columns =['tfidf','proportion', 'cik_list'])\n",
    "\n",
    "date = result_list_lm_4\n",
    "fdate = []\n",
    "for i in range(len(date)):\n",
    "    year = str(date[i])[0:4]\n",
    "    month = str(date[i])[4:6]\n",
    "    day = str(date[i])[6:8]\n",
    "    fdate.append(year+'-'+month+'-'+day)\n",
    "result_LM['filing_date'] = fdate\n",
    "\n",
    "# result_LM['filing_date'] = pd.to_datetime(result_LM['filing_date'])\n",
    "# result_LM['filing_date'] = result_LM['filing_date'].dt.strftime(\"%Y-%m-%d\")\n",
    "result_LM['cik_list'] = result_LM['cik_list'].astype(str).str.lstrip('0')\n",
    "result_LM['cik_list'] = result_LM['cik_list'].astype(int)\n",
    "result_LM = result_LM.rename(columns={'filing_date': 'filing_date','cik_list':'cik'})\n",
    "\n",
    "result_LM = pd.merge(result_LM,sp500_excessrtn, on=['cik', 'filing_date'],how = 'inner')\n",
    "# Specify the columns you want to keep in the final DataFrame\n",
    "result_LM = result_LM[['tfidf','proportion','cik', 'filing_date','avg_excess_return']]  # Replace with your desired column names"
   ]
  },
  {
   "cell_type": "code",
   "execution_count": 156,
   "id": "213908c5",
   "metadata": {},
   "outputs": [
    {
     "data": {
      "text/html": [
       "<div>\n",
       "<style scoped>\n",
       "    .dataframe tbody tr th:only-of-type {\n",
       "        vertical-align: middle;\n",
       "    }\n",
       "\n",
       "    .dataframe tbody tr th {\n",
       "        vertical-align: top;\n",
       "    }\n",
       "\n",
       "    .dataframe thead th {\n",
       "        text-align: right;\n",
       "    }\n",
       "</style>\n",
       "<table border=\"1\" class=\"dataframe\">\n",
       "  <thead>\n",
       "    <tr style=\"text-align: right;\">\n",
       "      <th></th>\n",
       "      <th>tfidf</th>\n",
       "      <th>proportion</th>\n",
       "      <th>cik</th>\n",
       "      <th>filing_date</th>\n",
       "      <th>avg_excess_return</th>\n",
       "    </tr>\n",
       "  </thead>\n",
       "  <tbody>\n",
       "    <tr>\n",
       "      <th>0</th>\n",
       "      <td>10.493443</td>\n",
       "      <td>0.003858</td>\n",
       "      <td>723254</td>\n",
       "      <td>2022-07-27</td>\n",
       "      <td>0.000866</td>\n",
       "    </tr>\n",
       "    <tr>\n",
       "      <th>1</th>\n",
       "      <td>10.367624</td>\n",
       "      <td>0.003744</td>\n",
       "      <td>723254</td>\n",
       "      <td>2023-07-27</td>\n",
       "      <td>-0.006859</td>\n",
       "    </tr>\n",
       "    <tr>\n",
       "      <th>2</th>\n",
       "      <td>6.890714</td>\n",
       "      <td>0.001535</td>\n",
       "      <td>723254</td>\n",
       "      <td>2019-07-26</td>\n",
       "      <td>-0.001674</td>\n",
       "    </tr>\n",
       "    <tr>\n",
       "      <th>3</th>\n",
       "      <td>9.867903</td>\n",
       "      <td>0.004049</td>\n",
       "      <td>723254</td>\n",
       "      <td>2021-07-28</td>\n",
       "      <td>0.002909</td>\n",
       "    </tr>\n",
       "    <tr>\n",
       "      <th>4</th>\n",
       "      <td>9.890839</td>\n",
       "      <td>0.003265</td>\n",
       "      <td>723254</td>\n",
       "      <td>2020-07-29</td>\n",
       "      <td>-0.008962</td>\n",
       "    </tr>\n",
       "    <tr>\n",
       "      <th>...</th>\n",
       "      <td>...</td>\n",
       "      <td>...</td>\n",
       "      <td>...</td>\n",
       "      <td>...</td>\n",
       "      <td>...</td>\n",
       "    </tr>\n",
       "    <tr>\n",
       "      <th>2105</th>\n",
       "      <td>20.563616</td>\n",
       "      <td>0.005760</td>\n",
       "      <td>24741</td>\n",
       "      <td>2023-02-13</td>\n",
       "      <td>0.003045</td>\n",
       "    </tr>\n",
       "    <tr>\n",
       "      <th>2106</th>\n",
       "      <td>39.109302</td>\n",
       "      <td>0.003901</td>\n",
       "      <td>899689</td>\n",
       "      <td>2021-02-16</td>\n",
       "      <td>-0.015680</td>\n",
       "    </tr>\n",
       "    <tr>\n",
       "      <th>2107</th>\n",
       "      <td>22.576581</td>\n",
       "      <td>0.001814</td>\n",
       "      <td>899689</td>\n",
       "      <td>2019-02-11</td>\n",
       "      <td>-0.002741</td>\n",
       "    </tr>\n",
       "    <tr>\n",
       "      <th>2108</th>\n",
       "      <td>27.773757</td>\n",
       "      <td>0.003303</td>\n",
       "      <td>899689</td>\n",
       "      <td>2022-02-14</td>\n",
       "      <td>0.027832</td>\n",
       "    </tr>\n",
       "    <tr>\n",
       "      <th>2109</th>\n",
       "      <td>24.733236</td>\n",
       "      <td>0.002204</td>\n",
       "      <td>899689</td>\n",
       "      <td>2020-02-18</td>\n",
       "      <td>-0.000859</td>\n",
       "    </tr>\n",
       "  </tbody>\n",
       "</table>\n",
       "<p>2110 rows × 5 columns</p>\n",
       "</div>"
      ],
      "text/plain": [
       "          tfidf  proportion     cik filing_date  avg_excess_return\n",
       "0     10.493443    0.003858  723254  2022-07-27           0.000866\n",
       "1     10.367624    0.003744  723254  2023-07-27          -0.006859\n",
       "2      6.890714    0.001535  723254  2019-07-26          -0.001674\n",
       "3      9.867903    0.004049  723254  2021-07-28           0.002909\n",
       "4      9.890839    0.003265  723254  2020-07-29          -0.008962\n",
       "...         ...         ...     ...         ...                ...\n",
       "2105  20.563616    0.005760   24741  2023-02-13           0.003045\n",
       "2106  39.109302    0.003901  899689  2021-02-16          -0.015680\n",
       "2107  22.576581    0.001814  899689  2019-02-11          -0.002741\n",
       "2108  27.773757    0.003303  899689  2022-02-14           0.027832\n",
       "2109  24.733236    0.002204  899689  2020-02-18          -0.000859\n",
       "\n",
       "[2110 rows x 5 columns]"
      ]
     },
     "execution_count": 156,
     "metadata": {},
     "output_type": "execute_result"
    }
   ],
   "source": [
    "result_LM"
   ]
  },
  {
   "cell_type": "code",
   "execution_count": 157,
   "id": "209c613b",
   "metadata": {},
   "outputs": [
    {
     "name": "stderr",
     "output_type": "stream",
     "text": [
      "/var/folders/9x/srv3h8gx32z9h7gqd2pbh94m0000gn/T/ipykernel_50120/3714705160.py:9: RuntimeWarning: divide by zero encountered in log\n",
      "  part1 = 1+np.log(mat1)\n"
     ]
    }
   ],
   "source": [
    "# Harvard Dictionary\n",
    "\n",
    "mat1 = result_list_H_0.to_numpy()\n",
    "mat2 = result_list_H_5.to_numpy()\n",
    "mat3 = result_list_H_1\n",
    "N = len(mat1[0])\n",
    "df = mat2.sum(axis=1)\n",
    "\n",
    "part1 = 1+np.log(mat1)\n",
    "part2 = 1+np.log(mat3)\n",
    "part3 = np.log(N/df)\n",
    "\n",
    "part1[np.isneginf(part1)] = 0\n",
    "part2[np.isneginf(part2)] = 0\n",
    "part3[np.isneginf(part3)] = 0\n",
    "\n",
    "part3 = part3[:,np.newaxis]\n",
    "# part3 = part3.T\n",
    "tfidf = np.divide(part1,part2)*part3\n",
    "result_tfidf_H = tfidf.sum(axis=0)\n",
    "\n",
    "# result_LM = pd.DataFrame(list(zip(result_tfidf,result_list_lm[2], result_list_lm[3],result_list_lm[4])),\n",
    "#                columns =['tfidf','proportion', 'cik_list','filing_date'])\n",
    "\n",
    "result_H = pd.DataFrame(list(zip(result_tfidf_H,result_list_H_2, result_list_H_3)),\n",
    "columns =['tfidf','proportion', 'cik_list'])\n",
    "\n",
    "date = result_list_H_4\n",
    "fdate = []\n",
    "for i in range(len(date)):\n",
    "    year = str(date[i])[0:4]\n",
    "    month = str(date[i])[4:6]\n",
    "    day = str(date[i])[6:8]\n",
    "    fdate.append(year+'-'+month+'-'+day)\n",
    "result_H['filing_date'] = fdate\n",
    "\n",
    "# result_LM['filing_date'] = pd.to_datetime(result_LM['filing_date'])\n",
    "# result_LM['filing_date'] = result_LM['filing_date'].dt.strftime(\"%Y-%m-%d\")\n",
    "result_H['cik_list'] = result_H['cik_list'].astype(str).str.lstrip('0')\n",
    "result_H['cik_list'] = result_H['cik_list'].astype(int)\n",
    "result_H = result_H.rename(columns={'filing_date': 'filing_date','cik_list':'cik'})\n",
    "\n",
    "result_H = pd.merge(result_H,sp500_excessrtn, on=['cik', 'filing_date'],how = 'inner')\n",
    "# Specify the columns you want to keep in the final DataFrame\n",
    "result_H = result_H[['tfidf','proportion','cik', 'filing_date','avg_excess_return']]  # Replace with your desired column names"
   ]
  },
  {
   "cell_type": "code",
   "execution_count": 158,
   "id": "d1884c1d",
   "metadata": {},
   "outputs": [
    {
     "name": "stdout",
     "output_type": "stream",
     "text": [
      "<class 'pandas.core.frame.DataFrame'>\n",
      "RangeIndex: 2110 entries, 0 to 2109\n",
      "Data columns (total 5 columns):\n",
      " #   Column             Non-Null Count  Dtype  \n",
      "---  ------             --------------  -----  \n",
      " 0   tfidf              2110 non-null   float64\n",
      " 1   proportion         2110 non-null   float64\n",
      " 2   cik                2110 non-null   int64  \n",
      " 3   filing_date        2110 non-null   object \n",
      " 4   avg_excess_return  2110 non-null   float64\n",
      "dtypes: float64(3), int64(1), object(1)\n",
      "memory usage: 82.5+ KB\n"
     ]
    }
   ],
   "source": [
    "result_H.info()"
   ]
  },
  {
   "cell_type": "markdown",
   "id": "6f37d9a1",
   "metadata": {},
   "source": [
    "### Calculate the median of excess rtn"
   ]
  },
  {
   "cell_type": "code",
   "execution_count": 159,
   "id": "40bd4eb2",
   "metadata": {},
   "outputs": [
    {
     "name": "stderr",
     "output_type": "stream",
     "text": [
      "/var/folders/9x/srv3h8gx32z9h7gqd2pbh94m0000gn/T/ipykernel_50120/2961621202.py:4: FutureWarning: The default of observed=False is deprecated and will be changed to True in a future version of pandas. Pass observed=False to retain current behavior or observed=True to adopt the future default and silence this warning.\n",
      "  result_tfidf_LM = result_LM.groupby(percentile_bins)['avg_excess_return'].median()\n",
      "/var/folders/9x/srv3h8gx32z9h7gqd2pbh94m0000gn/T/ipykernel_50120/2961621202.py:10: FutureWarning: The default of observed=False is deprecated and will be changed to True in a future version of pandas. Pass observed=False to retain current behavior or observed=True to adopt the future default and silence this warning.\n",
      "  result_pro_LM = result_LM.groupby(percentile_bins)['avg_excess_return'].median()\n",
      "/var/folders/9x/srv3h8gx32z9h7gqd2pbh94m0000gn/T/ipykernel_50120/2961621202.py:16: FutureWarning: The default of observed=False is deprecated and will be changed to True in a future version of pandas. Pass observed=False to retain current behavior or observed=True to adopt the future default and silence this warning.\n",
      "  result_tfidf_H = result_H.groupby(percentile_bins)['avg_excess_return'].median()\n",
      "/var/folders/9x/srv3h8gx32z9h7gqd2pbh94m0000gn/T/ipykernel_50120/2961621202.py:22: FutureWarning: The default of observed=False is deprecated and will be changed to True in a future version of pandas. Pass observed=False to retain current behavior or observed=True to adopt the future default and silence this warning.\n",
      "  result_pro_H = result_H.groupby(percentile_bins)['avg_excess_return'].median()\n"
     ]
    }
   ],
   "source": [
    "# Calculate the median of 'excessrtn' for every 20% of sorted 'tfidf'\n",
    "result_LM = result_LM.sort_values(by='tfidf')\n",
    "percentile_bins = pd.qcut(result_LM['tfidf'], q=[0, 0.2, 0.4, 0.6, 0.8, 1.0])\n",
    "result_tfidf_LM = result_LM.groupby(percentile_bins)['avg_excess_return'].median()\n",
    "result_tfidf_LM = result_tfidf_LM.tolist()\n",
    "\n",
    "# Calculate the median of 'excessrtn' for every 20% of sorted 'proportion'\n",
    "result_LM = result_LM.sort_values(by='proportion')\n",
    "percentile_bins = pd.qcut(result_LM['proportion'], q=[0, 0.2, 0.4, 0.6, 0.8, 1.0])\n",
    "result_pro_LM = result_LM.groupby(percentile_bins)['avg_excess_return'].median()\n",
    "result_pro_LM = result_pro_LM.tolist()\n",
    "\n",
    "# Calculate the median of 'excessrtn' for every 20% of sorted 'proportion'\n",
    "result_H = result_H.sort_values(by='tfidf')\n",
    "percentile_bins = pd.qcut(result_H['tfidf'], q=[0, 0.2, 0.4, 0.6, 0.8, 1.0])\n",
    "result_tfidf_H = result_H.groupby(percentile_bins)['avg_excess_return'].median()\n",
    "result_tfidf_H = result_tfidf_H.tolist()\n",
    "\n",
    "# Calculate the median of 'excessrtn' for every 20% of sorted 'proportion'\n",
    "result_H = result_H.sort_values(by='proportion')\n",
    "percentile_bins = pd.qcut(result_H['proportion'], q=[0, 0.2, 0.4, 0.6, 0.8, 1.0])\n",
    "result_pro_H = result_H.groupby(percentile_bins)['avg_excess_return'].median()\n",
    "result_pro_H = result_pro_H.tolist()"
   ]
  },
  {
   "cell_type": "markdown",
   "id": "98caa050",
   "metadata": {},
   "source": [
    "### Draw the diagram"
   ]
  },
  {
   "cell_type": "code",
   "execution_count": 160,
   "id": "e36f69a5",
   "metadata": {},
   "outputs": [
    {
     "data": {
      "image/png": "[encoded data removed]",
      "text/plain": [
       "<Figure size 640x480 with 1 Axes>"
      ]
     },
     "metadata": {},
     "output_type": "display_data"
    }
   ],
   "source": [
    "# Graph\n",
    "import matplotlib.pyplot as plt\n",
    "\n",
    "x_axis = ['low', 2, 3, 4, 'high']\n",
    "# Plotting\n",
    "# plt.plot(x_axis, result_tfidf_LM, label='tfidf_LM')\n",
    "# plt.plot(x_axis, result_pro_LM, label='pro_LM')\n",
    "plt.plot(x_axis, result_tfidf_H, label='tfidf_Harvard')\n",
    "plt.plot(x_axis, result_tfidf_LM, color = \"red\", label='tfidf_LM')\n",
    "\n",
    "# Adding labels and title\n",
    "plt.xlabel('Quintile (based on proportion of negative words)')\n",
    "plt.ylabel('Median Filing Period Excess Return')\n",
    "plt.title('Result tfidf')\n",
    "plt.legend()  # Show legend\n",
    "\n",
    "# Display the plot\n",
    "plt.show()"
   ]
  },
  {
   "cell_type": "code",
   "execution_count": 161,
   "id": "43c200c7",
   "metadata": {},
   "outputs": [
    {
     "data": {
      "image/png": "[encoded data removed]",
      "text/plain": [
       "<Figure size 640x480 with 1 Axes>"
      ]
     },
     "metadata": {},
     "output_type": "display_data"
    }
   ],
   "source": [
    "import matplotlib.pyplot as plt\n",
    "\n",
    "x_axis = ['low', 2, 3, 4, 'high']\n",
    "# Plotting\n",
    "# plt.plot(x_axis, result_tfidf_LM, label='tfidf_LM')\n",
    "# plt.plot(x_axis, result_pro_LM, label='pro_LM')\n",
    "plt.plot(x_axis, result_pro_H, label='pro_H')\n",
    "plt.plot(x_axis, result_pro_LM, color=\"red\", label='pro_LM')\n",
    "\n",
    "\n",
    "# Adding labels and title\n",
    "plt.xlabel('Quintile (based on proportion of negative words)')\n",
    "plt.ylabel('Median Filing Period Excess Return')\n",
    "plt.title('Result pro')\n",
    "plt.legend()  # Show legend\n",
    "\n",
    "# Display the plot\n",
    "plt.show()\n",
    "\n"
   ]
  },
  {
   "cell_type": "code",
   "execution_count": null,
   "id": "d1d5d6ad",
   "metadata": {},
   "outputs": [],
   "source": []
  }
 ],
 "metadata": {
  "kernelspec": {
   "display_name": "Python 3 (ipykernel)",
   "language": "python",
   "name": "python3"
  },
  "language_info": {
   "codemirror_mode": {
    "name": "ipython",
    "version": 3
   },
   "file_extension": ".py",
   "mimetype": "text/x-python",
   "name": "python",
   "nbconvert_exporter": "python",
   "pygments_lexer": "ipython3",
   "version": "3.11.0"
  },
  "toc": {
   "base_numbering": 1,
   "nav_menu": {},
   "number_sections": true,
   "sideBar": true,
   "skip_h1_title": false,
   "title_cell": "Table of Contents",
   "title_sidebar": "Contents",
   "toc_cell": false,
   "toc_position": {},
   "toc_section_display": true,
   "toc_window_display": false
  }
 },
 "nbformat": 4,
 "nbformat_minor": 5
}
