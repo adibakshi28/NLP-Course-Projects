{
 "cells": [
  {
   "cell_type": "code",
   "execution_count": 1,
   "id": "7e9c8f0e-d81c-4a3e-83ab-68ab5de5dbd5",
   "metadata": {},
   "outputs": [],
   "source": [
    "import numpy as np\n",
    "import matplotlib.pyplot as plt\n",
    "from sklearn.linear_model import LinearRegression\n",
    "from sklearn.model_selection import train_test_split\n",
    "from sklearn.metrics import mean_squared_error, r2_score\n",
    "import pandas as pd"
   ]
  },
  {
   "cell_type": "code",
   "execution_count": 2,
   "id": "71c69bc1-3f9a-4bbc-b0ca-8599460407b6",
   "metadata": {},
   "outputs": [],
   "source": [
    "df = pd.read_csv('Combined_Data.csv')\n",
    "df = df.set_index('dates')"
   ]
  },
  {
   "cell_type": "code",
   "execution_count": 3,
   "id": "34175379-f19b-497d-b0d7-f8f948ef4346",
   "metadata": {},
   "outputs": [
    {
     "data": {
      "text/plain": [
       "Index(['Filenames', 'tfidf', 'hawkish', 'dovish', 'Neutral', 'Negative',\n",
       "       'Positive', 'GT10', 'GT2', '2s10s_Spread', 'Gold_Prices', 'VIX',\n",
       "       'SP500', 'quintile'],\n",
       "      dtype='object')"
      ]
     },
     "execution_count": 3,
     "metadata": {},
     "output_type": "execute_result"
    }
   ],
   "source": [
    "df.columns"
   ]
  },
  {
   "cell_type": "code",
   "execution_count": 4,
   "id": "9e0010a9-5980-4268-b10f-f46d7d04aa44",
   "metadata": {},
   "outputs": [],
   "source": [
    "# Linear regression method\n",
    "\n",
    "def get_regression_values(X, y):\n",
    "    from sklearn.linear_model import LinearRegression\n",
    "    model = LinearRegression()\n",
    "    model.fit(X, y)\n",
    "    r_squared = model.score(X, y)\n",
    "    coefficients = model.coef_\n",
    "    intercept = model.intercept_\n",
    "    return {\"r_squared\": r_squared, \"coefficients\": coefficients, \"intercept\": intercept}\n"
   ]
  },
  {
   "cell_type": "code",
   "execution_count": 5,
   "id": "d5b6a15c-ebd7-4343-9a4c-4b4ead7ec4b0",
   "metadata": {
    "scrolled": true
   },
   "outputs": [
    {
     "name": "stdout",
     "output_type": "stream",
     "text": [
      "R-Squared Dataframe for Hawkish\n",
      "               hawkish\n",
      "GT10          0.475869\n",
      "GT2           0.065445\n",
      "2s10s_Spread  3.255899\n",
      "Gold_Prices   0.082743\n",
      "VIX           1.123259\n",
      "SP500         0.038921\n"
     ]
    }
   ],
   "source": [
    "# I have run it individually so I could compare results easily and then have merged all the files \n",
    "# this is linear regression based on y = ax+b where b in the intercept and x is the variable which in this case is hawkish. \n",
    "\n",
    "columns = ['hawkish']\n",
    "index = ['GT10', 'GT2', '2s10s_Spread', 'Gold_Prices', 'VIX', 'SP500']\n",
    "r2_df = pd.DataFrame(index=index, columns=columns)\n",
    "\n",
    "\n",
    "for target_var in ['GT10', 'GT2', '2s10s_Spread', 'Gold_Prices', 'VIX', 'SP500']:\n",
    "    filtered_df = df[abs(df['hawkish']) >= df['hawkish'].quantile(0.95)]\n",
    "    \n",
    "    X = filtered_df[['hawkish']]\n",
    "    y = filtered_df[[target_var]]\n",
    "    \n",
    "    result = get_regression_values(X, y)\n",
    "    \n",
    "    r2_df.loc[target_var, 'hawkish'] = result['r_squared']\n",
    "\n",
    "# Print the R-squared DataFrame\n",
    "print('R-Squared Dataframe for Hawkish')\n",
    "print(r2_df*100)"
   ]
  },
  {
   "cell_type": "code",
   "execution_count": 6,
   "id": "0a263cd5-fac3-40a9-8010-20dbea99aff8",
   "metadata": {},
   "outputs": [
    {
     "name": "stdout",
     "output_type": "stream",
     "text": [
      "R-Squared Dataframe for Dovish\n",
      "                dovish\n",
      "GT10          1.975653\n",
      "GT2           3.897818\n",
      "2s10s_Spread  1.130968\n",
      "Gold_Prices   0.002872\n",
      "VIX           0.012606\n",
      "SP500         0.165994\n"
     ]
    }
   ],
   "source": [
    "# I have run it individually so I could compare results easily and then have merged all the files \n",
    "# this is linear regression based on y = ax+b where b in the intercept and x is the variable which in this case is dovish. \n",
    "\n",
    "columns = ['dovish']\n",
    "index = ['GT10', 'GT2', '2s10s_Spread', 'Gold_Prices', 'VIX', 'SP500']\n",
    "r2_df_h = pd.DataFrame(index=index, columns=columns)\n",
    "\n",
    "# Loop through target variables\n",
    "for target_var in index:  # target_var corresponds to ['GT10', 'GT2', etc.]\n",
    "    # Filter the DataFrame based on the 95th percentile of the 'dovish' column\n",
    "    filtered_df = df[abs(df['dovish']) >= df['dovish'].quantile(0.95)]\n",
    "    \n",
    "    # Ensure X is a DataFrame\n",
    "    X = filtered_df[['dovish']]  # Use double brackets to keep X as a DataFrame\n",
    "    y = filtered_df[[target_var]]  # Dependent variable\n",
    "    \n",
    "    # Perform regression\n",
    "    result = get_regression_values(X, y)\n",
    "    \n",
    "    # Fill the R-squared value into the r2_df DataFrame\n",
    "    r2_df_h.loc[target_var, 'dovish'] = result['r_squared']\n",
    "\n",
    "# Print R-squared DataFrame for Dovish\n",
    "print('R-Squared Dataframe for Dovish')\n",
    "print(r2_df_h * 100)"
   ]
  },
  {
   "cell_type": "code",
   "execution_count": 7,
   "id": "28fff595-cdaa-462b-86ac-ed3d3a3b75a8",
   "metadata": {},
   "outputs": [
    {
     "name": "stdout",
     "output_type": "stream",
     "text": [
      "R-Squared Dataframe for TF_IDF\n",
      "                 tfidf\n",
      "GT10          0.334636\n",
      "GT2           0.060404\n",
      "2s10s_Spread  0.146273\n",
      "Gold_Prices   1.771619\n",
      "VIX           1.075799\n",
      "SP500         0.996451\n"
     ]
    }
   ],
   "source": [
    "# I have run it individually so I could compare results easily and then have merged all the files \n",
    "# this is linear regression based on y = ax+b where b in the intercept and x is the variable which in this case is TFIDF. \n",
    "\n",
    "columns = ['tfidf']\n",
    "index = ['GT10', 'GT2', '2s10s_Spread', 'Gold_Prices', 'VIX', 'SP500']\n",
    "r2_df_tf = pd.DataFrame(index=index, columns=columns)\n",
    "\n",
    "# Loop through target variables\n",
    "for target_var in index:  # target_var corresponds to ['GT10', 'GT2', etc.]\n",
    "    # Filter the DataFrame based on the 95th percentile of the 'dovish' column\n",
    "    filtered_df = df[abs(df['tfidf']) >= df['tfidf'].quantile(0.95)]\n",
    "    \n",
    "    # Ensure X is a DataFrame\n",
    "    X = filtered_df[['tfidf']]  # Use double brackets to keep X as a DataFrame\n",
    "    y = filtered_df[[target_var]]  # Dependent variable\n",
    "    \n",
    "    # Perform regression\n",
    "    result = get_regression_values(X, y)\n",
    "    \n",
    "    # Fill the R-squared value into the r2_df DataFrame\n",
    "    r2_df_tf.loc[target_var, 'tfidf'] = result['r_squared']\n",
    "\n",
    "# Print R-squared DataFrame for Dovish\n",
    "print('R-Squared Dataframe for TF_IDF')\n",
    "print(r2_df_tf * 100)"
   ]
  },
  {
   "cell_type": "code",
   "execution_count": 8,
   "id": "77c5e379-c943-4dbb-ad31-753932188a94",
   "metadata": {
    "scrolled": true
   },
   "outputs": [
    {
     "name": "stdout",
     "output_type": "stream",
     "text": [
      "R-Squared Dataframe for Positive - BERT\n",
      "              Positive\n",
      "GT10          0.001123\n",
      "GT2            0.72549\n",
      "2s10s_Spread  4.753694\n",
      "Gold_Prices   0.134738\n",
      "VIX           2.566851\n",
      "SP500         2.345252\n"
     ]
    }
   ],
   "source": [
    "# I have run it individually so I could compare results easily and then have merged all the files \n",
    "# this is linear regression based on y = ax+b where b in the intercept and x is the variable which in this case is Positive -BERT. \n",
    "\n",
    "columns = ['Positive']\n",
    "index = ['GT10', 'GT2', '2s10s_Spread', 'Gold_Prices', 'VIX', 'SP500']\n",
    "r2_df_pos = pd.DataFrame(index=index, columns=columns)\n",
    "\n",
    "# Loop through target variables\n",
    "for target_var in index:  # target_var corresponds to ['GT10', 'GT2', etc.]\n",
    "    # Filter the DataFrame based on the 95th percentile of the 'dovish' column\n",
    "    filtered_df = df[abs(df['Positive']) >= df['Positive'].quantile(0.95)]\n",
    "    \n",
    "    # Ensure X is a DataFrame\n",
    "    X = filtered_df[['Positive']]  # Use double brackets to keep X as a DataFrame\n",
    "    y = filtered_df[[target_var]]  # Dependent variable\n",
    "    \n",
    "    # Perform regression\n",
    "    result = get_regression_values(X, y)\n",
    "    \n",
    "    # Fill the R-squared value into the r2_df DataFrame\n",
    "    r2_df_pos.loc[target_var, 'Positive'] = result['r_squared']\n",
    "\n",
    "# Print R-squared DataFrame for Dovish\n",
    "print('R-Squared Dataframe for Positive - BERT')\n",
    "print(r2_df_pos * 100)"
   ]
  },
  {
   "cell_type": "code",
   "execution_count": 9,
   "id": "776e9974-6add-4c14-8be4-c41f90a1b15e",
   "metadata": {},
   "outputs": [
    {
     "name": "stdout",
     "output_type": "stream",
     "text": [
      "R-Squared Dataframe for Negative - BERT\n",
      "               Negative\n",
      "GT10           0.432224\n",
      "GT2            0.009653\n",
      "2s10s_Spread   0.001897\n",
      "Gold_Prices    1.918018\n",
      "VIX            17.41261\n",
      "SP500         17.532986\n"
     ]
    }
   ],
   "source": [
    "# I have run it individually so I could compare results easily and then have merged all the files \n",
    "# this is linear regression based on y = ax+b where b in the intercept and x is the variable which in this case is Negative - BERT. \n",
    "\n",
    "columns = ['Negative']\n",
    "index = ['GT10', 'GT2', '2s10s_Spread', 'Gold_Prices', 'VIX', 'SP500']\n",
    "r2_df_neg = pd.DataFrame(index=index, columns=columns)\n",
    "\n",
    "# Loop through target variables\n",
    "for target_var in index:  # target_var corresponds to ['GT10', 'GT2', etc.]\n",
    "    # Filter the DataFrame based on the 95th percentile of the 'dovish' column\n",
    "    filtered_df = df[abs(df['Negative']) >= df['Negative'].quantile(0.95)]\n",
    "    \n",
    "    # Ensure X is a DataFrame\n",
    "    X = filtered_df[['Negative']]  # Use double brackets to keep X as a DataFrame\n",
    "    y = filtered_df[[target_var]]  # Dependent variable\n",
    "    \n",
    "    # Perform regression\n",
    "    result = get_regression_values(X, y)\n",
    "    \n",
    "    # Fill the R-squared value into the r2_df DataFrame\n",
    "    r2_df_neg.loc[target_var, 'Negative'] = result['r_squared']\n",
    "\n",
    "# Print R-squared DataFrame for Dovish\n",
    "print('R-Squared Dataframe for Negative - BERT')\n",
    "print(r2_df_neg * 100)"
   ]
  },
  {
   "cell_type": "code",
   "execution_count": 10,
   "id": "dd3e8493-6298-4c14-ab31-3281d3c4cf1d",
   "metadata": {},
   "outputs": [],
   "source": [
    "dfs = [r2_df,r2_df_h,r2_df_tf,r2_df_pos,r2_df_neg]\n",
    "merged_df = pd.concat(dfs,axis = 1)"
   ]
  },
  {
   "cell_type": "code",
   "execution_count": 11,
   "id": "d2ae7d63-e11e-4cd5-a36f-c557f5ff04c0",
   "metadata": {},
   "outputs": [
    {
     "data": {
      "text/html": [
       "<div>\n",
       "<style scoped>\n",
       "    .dataframe tbody tr th:only-of-type {\n",
       "        vertical-align: middle;\n",
       "    }\n",
       "\n",
       "    .dataframe tbody tr th {\n",
       "        vertical-align: top;\n",
       "    }\n",
       "\n",
       "    .dataframe thead th {\n",
       "        text-align: right;\n",
       "    }\n",
       "</style>\n",
       "<table border=\"1\" class=\"dataframe\">\n",
       "  <thead>\n",
       "    <tr style=\"text-align: right;\">\n",
       "      <th></th>\n",
       "      <th>hawkish</th>\n",
       "      <th>dovish</th>\n",
       "      <th>tfidf</th>\n",
       "      <th>Positive</th>\n",
       "      <th>Negative</th>\n",
       "    </tr>\n",
       "  </thead>\n",
       "  <tbody>\n",
       "    <tr>\n",
       "      <th>GT10</th>\n",
       "      <td>0.475869</td>\n",
       "      <td>1.975653</td>\n",
       "      <td>0.334636</td>\n",
       "      <td>0.001123</td>\n",
       "      <td>0.432224</td>\n",
       "    </tr>\n",
       "    <tr>\n",
       "      <th>GT2</th>\n",
       "      <td>0.065445</td>\n",
       "      <td>3.897818</td>\n",
       "      <td>0.060404</td>\n",
       "      <td>0.72549</td>\n",
       "      <td>0.009653</td>\n",
       "    </tr>\n",
       "    <tr>\n",
       "      <th>2s10s_Spread</th>\n",
       "      <td>3.255899</td>\n",
       "      <td>1.130968</td>\n",
       "      <td>0.146273</td>\n",
       "      <td>4.753694</td>\n",
       "      <td>0.001897</td>\n",
       "    </tr>\n",
       "    <tr>\n",
       "      <th>Gold_Prices</th>\n",
       "      <td>0.082743</td>\n",
       "      <td>0.002872</td>\n",
       "      <td>1.771619</td>\n",
       "      <td>0.134738</td>\n",
       "      <td>1.918018</td>\n",
       "    </tr>\n",
       "    <tr>\n",
       "      <th>VIX</th>\n",
       "      <td>1.123259</td>\n",
       "      <td>0.012606</td>\n",
       "      <td>1.075799</td>\n",
       "      <td>2.566851</td>\n",
       "      <td>17.41261</td>\n",
       "    </tr>\n",
       "    <tr>\n",
       "      <th>SP500</th>\n",
       "      <td>0.038921</td>\n",
       "      <td>0.165994</td>\n",
       "      <td>0.996451</td>\n",
       "      <td>2.345252</td>\n",
       "      <td>17.532986</td>\n",
       "    </tr>\n",
       "  </tbody>\n",
       "</table>\n",
       "</div>"
      ],
      "text/plain": [
       "               hawkish    dovish     tfidf  Positive   Negative\n",
       "GT10          0.475869  1.975653  0.334636  0.001123   0.432224\n",
       "GT2           0.065445  3.897818  0.060404   0.72549   0.009653\n",
       "2s10s_Spread  3.255899  1.130968  0.146273  4.753694   0.001897\n",
       "Gold_Prices   0.082743  0.002872  1.771619  0.134738   1.918018\n",
       "VIX           1.123259  0.012606  1.075799  2.566851   17.41261\n",
       "SP500         0.038921  0.165994  0.996451  2.345252  17.532986"
      ]
     },
     "execution_count": 11,
     "metadata": {},
     "output_type": "execute_result"
    }
   ],
   "source": [
    "merged_df * 100\n",
    "# the values have been multiplied by 100 so it is easier to spot the difference, these are percentages values. \n",
    "# Also I have merged all the dataframes in the end for a comparison\n",
    "# We have taken > 95% quartile for all values as it says we need to compare extremely hawkish and dovish data. "
   ]
  }
 ],
 "metadata": {
  "kernelspec": {
   "display_name": "Python 3 (ipykernel)",
   "language": "python",
   "name": "python3"
  },
  "language_info": {
   "codemirror_mode": {
    "name": "ipython",
    "version": 3
   },
   "file_extension": ".py",
   "mimetype": "text/x-python",
   "name": "python",
   "nbconvert_exporter": "python",
   "pygments_lexer": "ipython3",
   "version": "3.12.2"
  }
 },
 "nbformat": 4,
 "nbformat_minor": 5
}
